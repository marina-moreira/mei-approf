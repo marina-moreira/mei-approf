{
 "cells": [
  {
   "metadata": {
    "jupyter": {
     "is_executing": true
    }
   },
   "cell_type": "code",
   "source": [
    "import os\n",
    "from PIL import ImageFont\n",
    "from tensorflow.python.keras.models import Sequential\n",
    "from tensorflow.python.keras.layers import Dense, Flatten, Conv2D, Dropout, MaxPooling2D, InputLayer, ZeroPadding2D\n",
    "\n",
    "import visualkeras\n",
    "\n",
    "#https://github.com/paulgavrikov/visualkeras#Usage\n",
    "#https://www.kaggle.com/code/paulgavrikov/visualizing-cnn-architectures-with-visualkeras\n",
    "#https://www.analyticsvidhya.com/blog/2022/03/visualize-deep-learning-models-using-visualkeras/\n",
    "\n",
    "image_size = 112\n",
    "model = Sequential()\n",
    "model.add(InputLayer(input_shape=(image_size, image_size, 3)))\n",
    "\n",
    "model.add(ZeroPadding2D((1, 1)))\n",
    "model.add(Conv2D(64, activation='relu', kernel_size=(3, 3)))\n",
    "model.add(ZeroPadding2D((1, 1)))\n",
    "model.add(Conv2D(64, activation='relu', kernel_size=(3, 3)))\n",
    "\n",
    "model.add(MaxPooling2D((2, 2), strides=(2, 2)))\n",
    "model.add(ZeroPadding2D((1, 1)))\n",
    "model.add(Conv2D(128, activation='relu', kernel_size=(3, 3)))\n",
    "model.add(ZeroPadding2D((1, 1)))\n",
    "model.add(Conv2D(128, activation='relu', kernel_size=(3, 3)))\n",
    "\n",
    "model.add(MaxPooling2D((2, 2), strides=(2, 2)))\n",
    "model.add(ZeroPadding2D((1, 1)))\n",
    "model.add(Conv2D(256, activation='relu', kernel_size=(3, 3)))\n",
    "model.add(ZeroPadding2D((1, 1)))\n",
    "model.add(Conv2D(256, activation='relu', kernel_size=(3, 3)))\n",
    "model.add(ZeroPadding2D((1, 1)))\n",
    "model.add(Conv2D(256, activation='relu', kernel_size=(3, 3)))\n",
    "\n",
    "model.add(MaxPooling2D((2, 2), strides=(2, 2)))\n",
    "model.add(ZeroPadding2D((1, 1)))\n",
    "model.add(Conv2D(512, activation='relu', kernel_size=(3, 3)))\n",
    "model.add(ZeroPadding2D((1, 1)))\n",
    "model.add(Conv2D(512, activation='relu', kernel_size=(3, 3)))\n",
    "model.add(ZeroPadding2D((1, 1)))\n",
    "model.add(Conv2D(512, activation='relu', kernel_size=(3, 3)))\n",
    "\n",
    "model.add(MaxPooling2D((2, 2), strides=(2, 2)))\n",
    "model.add(ZeroPadding2D((1, 1)))\n",
    "model.add(Conv2D(512, activation='relu', kernel_size=(3, 3)))\n",
    "model.add(ZeroPadding2D((1, 1)))\n",
    "model.add(Conv2D(512, activation='relu', kernel_size=(3, 3)))\n",
    "model.add(ZeroPadding2D((1, 1)))\n",
    "model.add(Conv2D(512, activation='relu', kernel_size=(3, 3)))\n",
    "model.add(MaxPooling2D())\n",
    "\n",
    "model.add(Flatten())\n",
    "\n",
    "model.add(Dense(4096, activation='relu'))\n",
    "model.add(Dropout(0.5))\n",
    "model.add(Dense(4096, activation='relu'))\n",
    "model.add(Dropout(0.5))\n",
    "model.add(Dense(1000, activation='softmax'))\n",
    "model.summary()\n",
    "visualkeras.layered_view(model, type_ignore=[ZeroPadding2D, Flatten], legend=True)"
   ],
   "id": "fcc531cc418efd0f",
   "outputs": [],
   "execution_count": null
  },
  {
   "metadata": {},
   "cell_type": "code",
   "outputs": [],
   "execution_count": null,
   "source": "",
   "id": "1dfe69b20ffc45c5"
  }
 ],
 "metadata": {
  "kernelspec": {
   "display_name": "Python 3",
   "language": "python",
   "name": "python3"
  },
  "language_info": {
   "codemirror_mode": {
    "name": "ipython",
    "version": 2
   },
   "file_extension": ".py",
   "mimetype": "text/x-python",
   "name": "python",
   "nbconvert_exporter": "python",
   "pygments_lexer": "ipython2",
   "version": "2.7.6"
  }
 },
 "nbformat": 4,
 "nbformat_minor": 5
}
