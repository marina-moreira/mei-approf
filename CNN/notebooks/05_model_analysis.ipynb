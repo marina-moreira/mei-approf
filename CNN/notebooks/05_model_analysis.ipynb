{
 "cells": [
  {
   "cell_type": "markdown",
   "metadata": {},
   "source": [
    "<h1 style=\"background-color:#C2B4B9;color:white;text-align: center;padding-top: 5px;padding-bottom: 5px;border-radius: 15px 50px;\"><strong><centre>Bird Species Classification Using Convolutional Neural Networks </centre></strong></h1>\n",
    "<img src=\"../images/logo_part1.jpg\">"
   ]
  },
  {
   "metadata": {},
   "cell_type": "code",
   "outputs": [],
   "execution_count": null,
   "source": ""
  },
  {
   "metadata": {},
   "cell_type": "markdown",
   "source": ""
  },
  {
   "cell_type": "markdown",
   "metadata": {},
   "source": [
    "<h2 style=\"background-color:#C2B4B9;color:white;text-align: center;padding-top: 5px;padding-bottom: 5px;border-radius: 15px 50px;\"><strong><centre>Methodology: Model_analysis </centre></strong></h2>\n",
    "\n",
    "#### 05.Model Analysis\n",
    "\n",
    "**Objective:** Analyze the model performance, visualize confusion matrix, and evaluate precision and recall.\n",
    "\n",
    "---"
   ]
  },
  {
   "metadata": {},
   "cell_type": "markdown",
   "source": "#### Import Libraries:"
  },
  {
   "metadata": {
    "ExecuteTime": {
     "end_time": "2024-06-04T07:17:55.454694Z",
     "start_time": "2024-06-04T07:17:39.617045Z"
    }
   },
   "cell_type": "code",
   "source": [
    "import tensorflow as tf\n",
    "import numpy as np\n",
    "from sklearn.metrics import confusion_matrix, classification_report\n",
    "from scripts.data_preprocessing import create_data_generators, preprocess_and_save_images\n",
    "import matplotlib.pyplot as plt\n",
    "import seaborn as sns\n",
    "\n",
    "data_dir = '../dataset/raw/CUB_200_2011/images/'\n",
    "_, validation_generator = preprocess_and_save_images(data_dir, '../dataset/processed/images/validation/')\n",
    "model_1 = tf.keras.models.load_model('../models/custom_cnn/bird_species_model_1.keras')\n"
   ],
   "outputs": [
    {
     "name": "stdout",
     "output_type": "stream",
     "text": [
      "Found 1176 images belonging to 25 classes.\n",
      "Found 290 images belonging to 25 classes.\n"
     ]
    },
    {
     "ename": "TypeError",
     "evalue": "cannot unpack non-iterable NoneType object",
     "output_type": "error",
     "traceback": [
      "\u001B[1;31m---------------------------------------------------------------------------\u001B[0m",
      "\u001B[1;31mTypeError\u001B[0m                                 Traceback (most recent call last)",
      "Cell \u001B[1;32mIn[13], line 9\u001B[0m\n\u001B[0;32m      6\u001B[0m \u001B[38;5;28;01mimport\u001B[39;00m \u001B[38;5;21;01mseaborn\u001B[39;00m \u001B[38;5;28;01mas\u001B[39;00m \u001B[38;5;21;01msns\u001B[39;00m\n\u001B[0;32m      8\u001B[0m data_dir \u001B[38;5;241m=\u001B[39m \u001B[38;5;124m'\u001B[39m\u001B[38;5;124m../dataset/raw/CUB_200_2011/images/\u001B[39m\u001B[38;5;124m'\u001B[39m\n\u001B[1;32m----> 9\u001B[0m _, validation_generator \u001B[38;5;241m=\u001B[39m preprocess_and_save_images(data_dir, \u001B[38;5;124m'\u001B[39m\u001B[38;5;124m../dataset/processed/images/validation/\u001B[39m\u001B[38;5;124m'\u001B[39m)\n\u001B[0;32m     10\u001B[0m model_1 \u001B[38;5;241m=\u001B[39m tf\u001B[38;5;241m.\u001B[39mkeras\u001B[38;5;241m.\u001B[39mmodels\u001B[38;5;241m.\u001B[39mload_model(\u001B[38;5;124m'\u001B[39m\u001B[38;5;124m../models/custom_cnn/bird_species_model_1.keras\u001B[39m\u001B[38;5;124m'\u001B[39m)\n",
      "\u001B[1;31mTypeError\u001B[0m: cannot unpack non-iterable NoneType object"
     ]
    }
   ],
   "execution_count": 13
  },
  {
   "metadata": {},
   "cell_type": "markdown",
   "source": "#### Evaluate Model and Generate Predictions:"
  },
  {
   "metadata": {
    "ExecuteTime": {
     "end_time": "2024-06-04T07:05:37.680590Z",
     "start_time": "2024-06-04T07:05:37.657820Z"
    }
   },
   "cell_type": "code",
   "source": [
    "val_labels = validation_generator.classes\n",
    "val_predictions_1 = model_1.predict(validation_generator)\n",
    "val_pred_classes_1 = np.argmax(val_predictions_1, axis=1)"
   ],
   "outputs": [
    {
     "ename": "NameError",
     "evalue": "name 'validation_generator' is not defined",
     "output_type": "error",
     "traceback": [
      "\u001B[1;31m---------------------------------------------------------------------------\u001B[0m",
      "\u001B[1;31mNameError\u001B[0m                                 Traceback (most recent call last)",
      "Cell \u001B[1;32mIn[10], line 1\u001B[0m\n\u001B[1;32m----> 1\u001B[0m val_labels \u001B[38;5;241m=\u001B[39m \u001B[43mvalidation_generator\u001B[49m\u001B[38;5;241m.\u001B[39mclasses\n\u001B[0;32m      2\u001B[0m val_predictions_1 \u001B[38;5;241m=\u001B[39m model_1\u001B[38;5;241m.\u001B[39mpredict(validation_generator)\n\u001B[0;32m      3\u001B[0m val_pred_classes_1 \u001B[38;5;241m=\u001B[39m np\u001B[38;5;241m.\u001B[39margmax(val_predictions_1, axis\u001B[38;5;241m=\u001B[39m\u001B[38;5;241m1\u001B[39m)\n",
      "\u001B[1;31mNameError\u001B[0m: name 'validation_generator' is not defined"
     ]
    }
   ],
   "execution_count": 10
  },
  {
   "metadata": {},
   "cell_type": "markdown",
   "source": "#### Confusion Matrix:"
  },
  {
   "metadata": {},
   "cell_type": "code",
   "outputs": [],
   "execution_count": null,
   "source": [
    "cm = confusion_matrix(val_labels, val_pred_classes_1)\n",
    "plt.figure(figsize=(20, 20))\n",
    "sns.heatmap(cm, annot=True, fmt='d', cmap='Blues', xticklabels=validation_generator.class_indices.keys(), yticklabels=validation_generator.class_indices.keys())\n",
    "plt.xlabel('Predicted')\n",
    "plt.ylabel('Actual')\n",
    "plt.show()\n"
   ]
  },
  {
   "metadata": {},
   "cell_type": "markdown",
   "source": "#### Classification Report:"
  },
  {
   "metadata": {
    "ExecuteTime": {
     "end_time": "2024-06-02T23:40:36.098041Z",
     "start_time": "2024-06-02T23:40:36.047573Z"
    }
   },
   "cell_type": "code",
   "source": "print(classification_report(val_labels, val_pred_classes, target_names=validation_generator.class_indices.keys()))",
   "outputs": [
    {
     "ename": "NameError",
     "evalue": "name 'val_labels' is not defined",
     "output_type": "error",
     "traceback": [
      "\u001B[1;31m---------------------------------------------------------------------------\u001B[0m",
      "\u001B[1;31mNameError\u001B[0m                                 Traceback (most recent call last)",
      "Cell \u001B[1;32mIn[3], line 1\u001B[0m\n\u001B[1;32m----> 1\u001B[0m \u001B[38;5;28mprint\u001B[39m(classification_report(\u001B[43mval_labels\u001B[49m, val_pred_classes, target_names\u001B[38;5;241m=\u001B[39mvalidation_generator\u001B[38;5;241m.\u001B[39mclass_indices\u001B[38;5;241m.\u001B[39mkeys()))\n",
      "\u001B[1;31mNameError\u001B[0m: name 'val_labels' is not defined"
     ]
    }
   ],
   "execution_count": 3
  },
  {
   "metadata": {},
   "cell_type": "code",
   "outputs": [],
   "execution_count": null,
   "source": ""
  }
 ],
 "metadata": {
  "kernelspec": {
   "display_name": "Python 3 (ipykernel)",
   "language": "python",
   "name": "python3"
  },
  "language_info": {
   "codemirror_mode": {
    "name": "ipython",
    "version": 3
   },
   "file_extension": ".py",
   "mimetype": "text/x-python",
   "name": "python",
   "nbconvert_exporter": "python",
   "pygments_lexer": "ipython3",
   "version": "3.8.3"
  }
 },
 "nbformat": 4,
 "nbformat_minor": 4
}
