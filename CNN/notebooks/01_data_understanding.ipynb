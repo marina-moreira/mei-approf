{
 "cells": [
  {
   "cell_type": "markdown",
   "metadata": {},
   "source": [
    "<h1 style=\"background-color:#C2B4B9;color:white;text-align: center;padding-top: 5px;padding-bottom: 5px;border-radius: 15px 50px;\"><strong><centre>Bird Species Classification Using Convolutional Neural Networks </centre></strong></h1>\n",
    "<img src=\"../images/logo_part1.jpg\">"
   ]
  },
  {
   "cell_type": "markdown",
   "metadata": {},
   "source": [
    "<h2 style=\"background-color:#C2B4B9;color:white;text-align: center;padding-top: 5px;padding-bottom: 5px;border-radius: 15px 50px;\"><strong><centre>Methodology:\n",
    " Exploratory Analysis of 200 Bird Species Dataset</centre></strong></h2>\n",
    "\n",
    "\n",
    "#### 01. Data Understanding <a class=\"anchor\" id=\"data\"></a>\n",
    "\n",
    "\n",
    "Exploratory data analysis will help us understand the structure, quality, and characteristics of the dataset. We will inspect image properties, check for corrupted files, and visualize samples to gain insights that will inform our data preprocessing and modeling steps.<br>\n",
    "<br>\n",
    "---\n",
    "\n"
   ]
  },
  {
   "metadata": {
    "ExecuteTime": {
     "end_time": "2024-06-02T18:35:29.582575Z",
     "start_time": "2024-06-02T18:35:29.575688Z"
    }
   },
   "cell_type": "code",
   "source": [
    "import random\n",
    "\n",
    "def gerar_numeros_aleatorios(quantidade, inicio, fim):\n",
    "    numeros_aleatorios = [random.randint(inicio, fim) for _ in range(quantidade)]\n",
    "    return numeros_aleatorios\n",
    "\n",
    "# Gera 20 números aleatórios entre 1 e 200\n",
    "numeros = gerar_numeros_aleatorios(20, 1, 200)\n",
    "print(numeros)\n"
   ],
   "outputs": [
    {
     "name": "stdout",
     "output_type": "stream",
     "text": [
      "[130, 53, 173, 132, 81, 184, 116, 194, 120, 98, 62, 75, 18, 76, 94, 48, 7, 188, 164, 107]\n"
     ]
    }
   ],
   "execution_count": 1
  }
 ],
 "metadata": {
  "kernelspec": {
   "display_name": "Python 3 (ipykernel)",
   "language": "python",
   "name": "python3"
  },
  "language_info": {
   "codemirror_mode": {
    "name": "ipython",
    "version": 3
   },
   "file_extension": ".py",
   "mimetype": "text/x-python",
   "name": "python",
   "nbconvert_exporter": "python",
   "pygments_lexer": "ipython3",
   "version": "3.8.3"
  }
 },
 "nbformat": 4,
 "nbformat_minor": 4
}
