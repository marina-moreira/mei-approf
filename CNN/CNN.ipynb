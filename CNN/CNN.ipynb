{
 "cells": [
  {
   "cell_type": "code",
   "outputs": [],
   "source": [
    "# import_image.py\n",
    "from PIL import Image\n",
    "\n",
    "# Caminho da imagem (assumindo que a imagem está na mesma pasta do script)\n",
    "image_path = \"/diagramas/flowchart1.png\"\n",
    "\n",
    "# Abrir a imagem\n",
    "img = Image.open(image_path)\n",
    "\n",
    "# Mostrar a imagem\n",
    "img.show()\n"
   ],
   "metadata": {
    "collapsed": false,
    "ExecuteTime": {
     "end_time": "2024-05-22T22:39:54.567769Z",
     "start_time": "2024-05-22T22:39:50.024487Z"
    }
   },
   "id": "d7aacc91693f89f1",
   "execution_count": 5
  },
  {
   "cell_type": "code",
   "outputs": [],
   "source": [],
   "metadata": {
    "collapsed": false
   },
   "id": "5e34f25aa09d1b3f"
  },
  {
   "cell_type": "markdown",
   "source": [],
   "metadata": {
    "collapsed": false
   },
   "id": "2802b1174c53d41b"
  }
 ],
 "metadata": {
  "kernelspec": {
   "display_name": "Python 3",
   "language": "python",
   "name": "python3"
  },
  "language_info": {
   "codemirror_mode": {
    "name": "ipython",
    "version": 2
   },
   "file_extension": ".py",
   "mimetype": "text/x-python",
   "name": "python",
   "nbconvert_exporter": "python",
   "pygments_lexer": "ipython2",
   "version": "2.7.6"
  }
 },
 "nbformat": 4,
 "nbformat_minor": 5
}
