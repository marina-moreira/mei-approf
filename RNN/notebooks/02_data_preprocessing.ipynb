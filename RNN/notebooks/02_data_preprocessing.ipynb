{
 "cells": [
  {
   "cell_type": "markdown",
   "metadata": {},
   "source": [
    "<h1 style=\"background-color:#C2B4B9;color:white;text-align: center;padding-top: 5px;padding-bottom: 5px;border-radius: 5px 5px;\"><strong><centre>Motion Activity Classification Using Recurrent Neural Networks </centre></strong></h1>"
   ]
  },
  {
   "cell_type": "markdown",
   "metadata": {},
   "source": [
    "<h2 style=\"background-color:#C2B4B9;color:white;text-align: center;padding-top: 5px;padding-bottom: 5px;border-radius: 5px 5px;\"><strong><centre>Methodology: Transforming and Splitting the Data</centre></strong></h2>\n",
    "\n",
    "#### 02. Data Preprocessing <a class=\"anchor\" id=\"data\"></a>\n",
    "##### Effective data transformation and splitting strategies are critical for building robust deep learning models. This section will cover data normalization, target encoding, and splitting the dataset into training, validation, and test sets.\n",
    "\n",
    "---"
   ]
  },
  {
   "cell_type": "markdown",
   "metadata": {},
   "source": [
    "# **Pré-processamento dos Dados**"
   ]
  },
  {
   "cell_type": "markdown",
   "metadata": {},
   "source": [
    "## **Carregamento das Bibliotecas Base**"
   ]
  },
  {
   "cell_type": "code",
   "execution_count": 34,
   "metadata": {},
   "outputs": [
    {
     "data": {
      "image/png": "[encoded data removed]",
      "text/html": [
       "<div style=\"vertical-align: middle;\"><strong>bone_r</strong> </div><div class=\"cmap\"><img alt=\"bone_r colormap\" title=\"bone_r\" style=\"border: 1px solid #555;\" src=\"data:image/png;base64,iVBORw0KGgoAAAANSUhEUgAAAgAAAABACAYAAABsv8+/AAAAFXRFWHRUaXRsZQBib25lX3IgY29sb3JtYXCujrBGAAAAG3RFWHREZXNjcmlwdGlvbgBib25lX3IgY29sb3JtYXDnGaiiAAAAMHRFWHRBdXRob3IATWF0cGxvdGxpYiB2My44LjMsIGh0dHBzOi8vbWF0cGxvdGxpYi5vcmeqnk4cAAAAMnRFWHRTb2Z0d2FyZQBNYXRwbG90bGliIHYzLjguMywgaHR0cHM6Ly9tYXRwbG90bGliLm9yZ4Q40TsAAAHFSURBVHic7dZBbsIwFEDB397/zKSLQisR3DQtEos3s0EksWNjCb23bdu2mZnL58dcv+6+L6/P7fo8dfzq+VePX847/xt/ff35c5jb9T+Ov3v/dnn8/P3n7J57vP/VfLO7vxi/mGd2z51b/3a5n+fc+vf7OFj/4T7mx+eOz+Hg/UfncPL3++/5v3r9vz7/68Eu1z8/3z+aZ+Z371nN8z3+3Lpv99fjD9b99b/xx3Xv/r/OrfvV+z9/fs/d/3r8uXW/DwCQIwAAIEgAAECQAACAIAEAAEECAACCBAAABAkAAAgSAAAQJAAAIEgAAECQAACAIAEAAEECAACCBAAABAkAAAgSAAAQJAAAIEgAAECQAACAIAEAAEECAACCBAAABAkAAAgSAAAQJAAAIEgAAECQAACAIAEAAEECAACCBAAABAkAAAgSAAAQJAAAIEgAAECQAACAIAEAAEECAACCBAAABAkAAAgSAAAQJAAAIEgAAECQAACAIAEAAEECAACCBAAABAkAAAgSAAAQJAAAIEgAAECQAACAIAEAAEECAACCBAAABAkAAAgSAAAQJAAAIEgAAECQAACAIAEAAEECAACCBAAABH0A+Gm+nfb+AtsAAAAASUVORK5CYII=\"></div><div style=\"vertical-align: middle; max-width: 514px; display: flex; justify-content: space-between;\"><div style=\"float: left;\"><div title=\"#ffffffff\" style=\"display: inline-block; width: 1em; height: 1em; margin: 0; vertical-align: middle; border: 1px solid #555; background-color: #ffffffff;\"></div> under</div><div style=\"margin: 0 auto; display: inline-block;\">bad <div title=\"#00000000\" style=\"display: inline-block; width: 1em; height: 1em; margin: 0; vertical-align: middle; border: 1px solid #555; background-color: #00000000;\"></div></div><div style=\"float: right;\">over <div title=\"#000000ff\" style=\"display: inline-block; width: 1em; height: 1em; margin: 0; vertical-align: middle; border: 1px solid #555; background-color: #000000ff;\"></div></div>"
      ],
      "text/plain": [
       "<matplotlib.colors.LinearSegmentedColormap at 0x1eb69a5b750>"
      ]
     },
     "execution_count": 34,
     "metadata": {},
     "output_type": "execute_result"
    }
   ],
   "source": [
    "import os\n",
    "import numpy as np\n",
    "import pandas as pd\n",
    "\n",
    "import seaborn as sns\n",
    "import matplotlib.pyplot as plt\n",
    "\n",
    "\n",
    "import warnings\n",
    "warnings.filterwarnings('ignore')\n",
    "\n",
    "sns.set_style(\"whitegrid\")\n",
    "sns.color_palette(\"bone_r\", as_cmap=True)"
   ]
  },
  {
   "cell_type": "markdown",
   "metadata": {},
   "source": [
    "## **Carregamento do *Dataset***"
   ]
  },
  {
   "cell_type": "code",
   "execution_count": 35,
   "metadata": {},
   "outputs": [],
   "source": [
    "# Definir o caminho do arquivo relativo ao diretório do script\n",
    "#file_path = os.path.join(os.getcwd(), 'RNN_dataset', 'concatDataset.csv')"
   ]
  },
  {
   "cell_type": "code",
   "execution_count": 36,
   "metadata": {},
   "outputs": [
    {
     "name": "stdout",
     "output_type": "stream",
     "text": [
      "C:\\\\Users\\\\maria\\\\OneDrive - Instituto Superior de Engenharia do Porto\\\\Desktop\\\\Semestre\\\\APROF\\\\mei-approf\\\\RNN\\\\datasets\\concatDataset.csv\n"
     ]
    }
   ],
   "source": [
    "base_dir = r'C:\\\\Users\\\\maria\\\\OneDrive - Instituto Superior de Engenharia do Porto\\\\Desktop\\\\Semestre\\\\APROF\\\\mei-approf\\\\RNN\\\\datasets'\n",
    "file_name = 'concatDataset.csv'\n",
    "\n",
    "file_path = os.path.join(base_dir, file_name)\n",
    "print(file_path)"
   ]
  },
  {
   "cell_type": "markdown",
   "metadata": {},
   "source": [
    "+ Leitura do ficheiro .csv com os dados das atividades utilizando o método `read_csv()`"
   ]
  },
  {
   "cell_type": "code",
   "execution_count": 37,
   "metadata": {},
   "outputs": [],
   "source": [
    "df_motionSense = pd.read_csv(file_path)"
   ]
  },
  {
   "cell_type": "markdown",
   "metadata": {},
   "source": [
    "+ Utilização do método `head()` para visualizar os 5 primeiros valores do Dataframe 'df_motionSense'"
   ]
  },
  {
   "cell_type": "code",
   "execution_count": 38,
   "metadata": {},
   "outputs": [
    {
     "data": {
      "text/html": [
       "<div>\n",
       "<style scoped>\n",
       "    .dataframe tbody tr th:only-of-type {\n",
       "        vertical-align: middle;\n",
       "    }\n",
       "\n",
       "    .dataframe tbody tr th {\n",
       "        vertical-align: top;\n",
       "    }\n",
       "\n",
       "    .dataframe thead th {\n",
       "        text-align: right;\n",
       "    }\n",
       "</style>\n",
       "<table border=\"1\" class=\"dataframe\">\n",
       "  <thead>\n",
       "    <tr style=\"text-align: right;\">\n",
       "      <th></th>\n",
       "      <th>Unnamed: 0</th>\n",
       "      <th>attitude.roll</th>\n",
       "      <th>attitude.pitch</th>\n",
       "      <th>attitude.yaw</th>\n",
       "      <th>gravity.x</th>\n",
       "      <th>gravity.y</th>\n",
       "      <th>gravity.z</th>\n",
       "      <th>rotationRate.x</th>\n",
       "      <th>rotationRate.y</th>\n",
       "      <th>rotationRate.z</th>\n",
       "      <th>userAcceleration.x</th>\n",
       "      <th>userAcceleration.y</th>\n",
       "      <th>userAcceleration.z</th>\n",
       "      <th>subject_id</th>\n",
       "      <th>session_id</th>\n",
       "      <th>category</th>\n",
       "      <th>age</th>\n",
       "      <th>gender</th>\n",
       "      <th>height</th>\n",
       "      <th>weight</th>\n",
       "    </tr>\n",
       "  </thead>\n",
       "  <tbody>\n",
       "    <tr>\n",
       "      <th>0</th>\n",
       "      <td>0</td>\n",
       "      <td>1.528132</td>\n",
       "      <td>-0.733896</td>\n",
       "      <td>0.696372</td>\n",
       "      <td>0.741895</td>\n",
       "      <td>0.669768</td>\n",
       "      <td>-0.031672</td>\n",
       "      <td>0.316738</td>\n",
       "      <td>0.778180</td>\n",
       "      <td>1.082764</td>\n",
       "      <td>0.294894</td>\n",
       "      <td>-0.184493</td>\n",
       "      <td>0.377542</td>\n",
       "      <td>1</td>\n",
       "      <td>1</td>\n",
       "      <td>dws</td>\n",
       "      <td>46</td>\n",
       "      <td>1</td>\n",
       "      <td>188</td>\n",
       "      <td>102</td>\n",
       "    </tr>\n",
       "    <tr>\n",
       "      <th>1</th>\n",
       "      <td>1</td>\n",
       "      <td>1.527992</td>\n",
       "      <td>-0.716987</td>\n",
       "      <td>0.677762</td>\n",
       "      <td>0.753099</td>\n",
       "      <td>0.657116</td>\n",
       "      <td>-0.032255</td>\n",
       "      <td>0.842032</td>\n",
       "      <td>0.424446</td>\n",
       "      <td>0.643574</td>\n",
       "      <td>0.219405</td>\n",
       "      <td>0.035846</td>\n",
       "      <td>0.114866</td>\n",
       "      <td>1</td>\n",
       "      <td>1</td>\n",
       "      <td>dws</td>\n",
       "      <td>46</td>\n",
       "      <td>1</td>\n",
       "      <td>188</td>\n",
       "      <td>102</td>\n",
       "    </tr>\n",
       "    <tr>\n",
       "      <th>2</th>\n",
       "      <td>2</td>\n",
       "      <td>1.527765</td>\n",
       "      <td>-0.706999</td>\n",
       "      <td>0.670951</td>\n",
       "      <td>0.759611</td>\n",
       "      <td>0.649555</td>\n",
       "      <td>-0.032707</td>\n",
       "      <td>-0.138143</td>\n",
       "      <td>-0.040741</td>\n",
       "      <td>0.343563</td>\n",
       "      <td>0.010714</td>\n",
       "      <td>0.134701</td>\n",
       "      <td>-0.167808</td>\n",
       "      <td>1</td>\n",
       "      <td>1</td>\n",
       "      <td>dws</td>\n",
       "      <td>46</td>\n",
       "      <td>1</td>\n",
       "      <td>188</td>\n",
       "      <td>102</td>\n",
       "    </tr>\n",
       "    <tr>\n",
       "      <th>3</th>\n",
       "      <td>3</td>\n",
       "      <td>1.516768</td>\n",
       "      <td>-0.704678</td>\n",
       "      <td>0.675735</td>\n",
       "      <td>0.760709</td>\n",
       "      <td>0.647788</td>\n",
       "      <td>-0.041140</td>\n",
       "      <td>-0.025005</td>\n",
       "      <td>-1.048717</td>\n",
       "      <td>0.035860</td>\n",
       "      <td>-0.008389</td>\n",
       "      <td>0.136788</td>\n",
       "      <td>0.094958</td>\n",
       "      <td>1</td>\n",
       "      <td>1</td>\n",
       "      <td>dws</td>\n",
       "      <td>46</td>\n",
       "      <td>1</td>\n",
       "      <td>188</td>\n",
       "      <td>102</td>\n",
       "    </tr>\n",
       "    <tr>\n",
       "      <th>4</th>\n",
       "      <td>4</td>\n",
       "      <td>1.493941</td>\n",
       "      <td>-0.703918</td>\n",
       "      <td>0.672994</td>\n",
       "      <td>0.760062</td>\n",
       "      <td>0.647210</td>\n",
       "      <td>-0.058530</td>\n",
       "      <td>0.114253</td>\n",
       "      <td>-0.912890</td>\n",
       "      <td>0.047341</td>\n",
       "      <td>0.199441</td>\n",
       "      <td>0.353996</td>\n",
       "      <td>-0.044299</td>\n",
       "      <td>1</td>\n",
       "      <td>1</td>\n",
       "      <td>dws</td>\n",
       "      <td>46</td>\n",
       "      <td>1</td>\n",
       "      <td>188</td>\n",
       "      <td>102</td>\n",
       "    </tr>\n",
       "  </tbody>\n",
       "</table>\n",
       "</div>"
      ],
      "text/plain": [
       "   Unnamed: 0  attitude.roll  attitude.pitch  attitude.yaw  gravity.x  \\\n",
       "0           0       1.528132       -0.733896      0.696372   0.741895   \n",
       "1           1       1.527992       -0.716987      0.677762   0.753099   \n",
       "2           2       1.527765       -0.706999      0.670951   0.759611   \n",
       "3           3       1.516768       -0.704678      0.675735   0.760709   \n",
       "4           4       1.493941       -0.703918      0.672994   0.760062   \n",
       "\n",
       "   gravity.y  gravity.z  rotationRate.x  rotationRate.y  rotationRate.z  \\\n",
       "0   0.669768  -0.031672        0.316738        0.778180        1.082764   \n",
       "1   0.657116  -0.032255        0.842032        0.424446        0.643574   \n",
       "2   0.649555  -0.032707       -0.138143       -0.040741        0.343563   \n",
       "3   0.647788  -0.041140       -0.025005       -1.048717        0.035860   \n",
       "4   0.647210  -0.058530        0.114253       -0.912890        0.047341   \n",
       "\n",
       "   userAcceleration.x  userAcceleration.y  userAcceleration.z  subject_id  \\\n",
       "0            0.294894           -0.184493            0.377542           1   \n",
       "1            0.219405            0.035846            0.114866           1   \n",
       "2            0.010714            0.134701           -0.167808           1   \n",
       "3           -0.008389            0.136788            0.094958           1   \n",
       "4            0.199441            0.353996           -0.044299           1   \n",
       "\n",
       "   session_id category  age  gender  height  weight  \n",
       "0           1      dws   46       1     188     102  \n",
       "1           1      dws   46       1     188     102  \n",
       "2           1      dws   46       1     188     102  \n",
       "3           1      dws   46       1     188     102  \n",
       "4           1      dws   46       1     188     102  "
      ]
     },
     "execution_count": 38,
     "metadata": {},
     "output_type": "execute_result"
    }
   ],
   "source": [
    "df_motionSense.head(5)"
   ]
  },
  {
   "cell_type": "markdown",
   "metadata": {},
   "source": [
    "## **Remoção de Colunas Consideradas Desnecessárias**\n",
    "\n",
    "Criação de um cópia do DataFrame inicial 'df_motionSense'e remoção de um conjunto de colunas:'Unnamed: 0', 'subject_id', 'session_id', 'age', 'gender', 'height', e 'weight' para simplificar o *dataset* para análise futura.\n",
    "\n",
    "A remoção das colunas teve por base as seguintes justificações: \n",
    "\n",
    "+ **'Unnamed: 0':** Esta coluna diz respeito a um índice, pelo que se considerou que a sua remoção não teria impacto as informações relevantes dos dados;\n",
    "\n",
    "+ **'subject_id':** Uma vez que não se está a fazer previsões com bases nas características individuais dos participantes, como idade, gênero, altura e peso, removeu-se esta coluna para evita a inclusão de informações irrelevantes no modelo;\n",
    "\n",
    "+ **'session_id':** Similar à 'subject_id', considerou-se que a remoção desta coluna evitaria que o modelo fosse influenciado por detalhes específicos das diferentes sessões experimentais;\n",
    "\n",
    "+ **'age', 'gender', 'height', 'weight':** Estas colunas contêm informações pessoais sobre os participantes envolvidos no estudo, como idade, gênero, altura e peso. Considerou-se assim que estas características não são relevantes para o problema em questão, uma vez que o objetivo é prever atividades com base em dados sensoriais e não pessoais. Assim sendo, a sua remoção simplificaria o *dataset*;\n",
    "\n",
    "Portanto, a eliminação destas colunas ajuda a focar no problema de classificação de atividades de movimento com base apenas nos dados sensoriais, sem considerar características individuais dos participantes ou detalhes das sessões experimentais."
   ]
  },
  {
   "cell_type": "code",
   "execution_count": 39,
   "metadata": {},
   "outputs": [
    {
     "data": {
      "text/html": [
       "<div>\n",
       "<style scoped>\n",
       "    .dataframe tbody tr th:only-of-type {\n",
       "        vertical-align: middle;\n",
       "    }\n",
       "\n",
       "    .dataframe tbody tr th {\n",
       "        vertical-align: top;\n",
       "    }\n",
       "\n",
       "    .dataframe thead th {\n",
       "        text-align: right;\n",
       "    }\n",
       "</style>\n",
       "<table border=\"1\" class=\"dataframe\">\n",
       "  <thead>\n",
       "    <tr style=\"text-align: right;\">\n",
       "      <th></th>\n",
       "      <th>attitude.roll</th>\n",
       "      <th>attitude.pitch</th>\n",
       "      <th>attitude.yaw</th>\n",
       "      <th>gravity.x</th>\n",
       "      <th>gravity.y</th>\n",
       "      <th>gravity.z</th>\n",
       "      <th>rotationRate.x</th>\n",
       "      <th>rotationRate.y</th>\n",
       "      <th>rotationRate.z</th>\n",
       "      <th>userAcceleration.x</th>\n",
       "      <th>userAcceleration.y</th>\n",
       "      <th>userAcceleration.z</th>\n",
       "      <th>category</th>\n",
       "    </tr>\n",
       "  </thead>\n",
       "  <tbody>\n",
       "    <tr>\n",
       "      <th>0</th>\n",
       "      <td>1.528132</td>\n",
       "      <td>-0.733896</td>\n",
       "      <td>0.696372</td>\n",
       "      <td>0.741895</td>\n",
       "      <td>0.669768</td>\n",
       "      <td>-0.031672</td>\n",
       "      <td>0.316738</td>\n",
       "      <td>0.778180</td>\n",
       "      <td>1.082764</td>\n",
       "      <td>0.294894</td>\n",
       "      <td>-0.184493</td>\n",
       "      <td>0.377542</td>\n",
       "      <td>dws</td>\n",
       "    </tr>\n",
       "    <tr>\n",
       "      <th>1</th>\n",
       "      <td>1.527992</td>\n",
       "      <td>-0.716987</td>\n",
       "      <td>0.677762</td>\n",
       "      <td>0.753099</td>\n",
       "      <td>0.657116</td>\n",
       "      <td>-0.032255</td>\n",
       "      <td>0.842032</td>\n",
       "      <td>0.424446</td>\n",
       "      <td>0.643574</td>\n",
       "      <td>0.219405</td>\n",
       "      <td>0.035846</td>\n",
       "      <td>0.114866</td>\n",
       "      <td>dws</td>\n",
       "    </tr>\n",
       "    <tr>\n",
       "      <th>2</th>\n",
       "      <td>1.527765</td>\n",
       "      <td>-0.706999</td>\n",
       "      <td>0.670951</td>\n",
       "      <td>0.759611</td>\n",
       "      <td>0.649555</td>\n",
       "      <td>-0.032707</td>\n",
       "      <td>-0.138143</td>\n",
       "      <td>-0.040741</td>\n",
       "      <td>0.343563</td>\n",
       "      <td>0.010714</td>\n",
       "      <td>0.134701</td>\n",
       "      <td>-0.167808</td>\n",
       "      <td>dws</td>\n",
       "    </tr>\n",
       "    <tr>\n",
       "      <th>3</th>\n",
       "      <td>1.516768</td>\n",
       "      <td>-0.704678</td>\n",
       "      <td>0.675735</td>\n",
       "      <td>0.760709</td>\n",
       "      <td>0.647788</td>\n",
       "      <td>-0.041140</td>\n",
       "      <td>-0.025005</td>\n",
       "      <td>-1.048717</td>\n",
       "      <td>0.035860</td>\n",
       "      <td>-0.008389</td>\n",
       "      <td>0.136788</td>\n",
       "      <td>0.094958</td>\n",
       "      <td>dws</td>\n",
       "    </tr>\n",
       "    <tr>\n",
       "      <th>4</th>\n",
       "      <td>1.493941</td>\n",
       "      <td>-0.703918</td>\n",
       "      <td>0.672994</td>\n",
       "      <td>0.760062</td>\n",
       "      <td>0.647210</td>\n",
       "      <td>-0.058530</td>\n",
       "      <td>0.114253</td>\n",
       "      <td>-0.912890</td>\n",
       "      <td>0.047341</td>\n",
       "      <td>0.199441</td>\n",
       "      <td>0.353996</td>\n",
       "      <td>-0.044299</td>\n",
       "      <td>dws</td>\n",
       "    </tr>\n",
       "  </tbody>\n",
       "</table>\n",
       "</div>"
      ],
      "text/plain": [
       "   attitude.roll  attitude.pitch  attitude.yaw  gravity.x  gravity.y  \\\n",
       "0       1.528132       -0.733896      0.696372   0.741895   0.669768   \n",
       "1       1.527992       -0.716987      0.677762   0.753099   0.657116   \n",
       "2       1.527765       -0.706999      0.670951   0.759611   0.649555   \n",
       "3       1.516768       -0.704678      0.675735   0.760709   0.647788   \n",
       "4       1.493941       -0.703918      0.672994   0.760062   0.647210   \n",
       "\n",
       "   gravity.z  rotationRate.x  rotationRate.y  rotationRate.z  \\\n",
       "0  -0.031672        0.316738        0.778180        1.082764   \n",
       "1  -0.032255        0.842032        0.424446        0.643574   \n",
       "2  -0.032707       -0.138143       -0.040741        0.343563   \n",
       "3  -0.041140       -0.025005       -1.048717        0.035860   \n",
       "4  -0.058530        0.114253       -0.912890        0.047341   \n",
       "\n",
       "   userAcceleration.x  userAcceleration.y  userAcceleration.z category  \n",
       "0            0.294894           -0.184493            0.377542      dws  \n",
       "1            0.219405            0.035846            0.114866      dws  \n",
       "2            0.010714            0.134701           -0.167808      dws  \n",
       "3           -0.008389            0.136788            0.094958      dws  \n",
       "4            0.199441            0.353996           -0.044299      dws  "
      ]
     },
     "execution_count": 39,
     "metadata": {},
     "output_type": "execute_result"
    }
   ],
   "source": [
    "df_motionSense_copy = df_motionSense.copy() \n",
    "\n",
    "df_motionSense_copy.drop('Unnamed: 0', axis=1, inplace=True)\n",
    "df_motionSense_copy.drop('subject_id', axis=1, inplace=True)\n",
    "df_motionSense_copy.drop('session_id', axis=1, inplace=True)\n",
    "df_motionSense_copy.drop('age', axis=1, inplace=True)\n",
    "df_motionSense_copy.drop('gender', axis=1, inplace=True)\n",
    "df_motionSense_copy.drop('height', axis=1, inplace=True)\n",
    "df_motionSense_copy.drop('weight', axis=1, inplace=True)\n",
    "\n",
    "df_motionSense_copy.head(5)"
   ]
  },
  {
   "cell_type": "markdown",
   "metadata": {},
   "source": [
    "## **Tranformação dos Dados Categóricos**"
   ]
  },
  {
   "cell_type": "markdown",
   "metadata": {},
   "source": [
    "+ Verificação da existência de dados do tipo object utilizando o método `info()`"
   ]
  },
  {
   "cell_type": "code",
   "execution_count": 40,
   "metadata": {},
   "outputs": [
    {
     "name": "stdout",
     "output_type": "stream",
     "text": [
      "<class 'pandas.core.frame.DataFrame'>\n",
      "RangeIndex: 423372 entries, 0 to 423371\n",
      "Data columns (total 13 columns):\n",
      " #   Column              Non-Null Count   Dtype  \n",
      "---  ------              --------------   -----  \n",
      " 0   attitude.roll       423372 non-null  float64\n",
      " 1   attitude.pitch      423372 non-null  float64\n",
      " 2   attitude.yaw        423372 non-null  float64\n",
      " 3   gravity.x           423372 non-null  float64\n",
      " 4   gravity.y           423372 non-null  float64\n",
      " 5   gravity.z           423372 non-null  float64\n",
      " 6   rotationRate.x      423372 non-null  float64\n",
      " 7   rotationRate.y      423372 non-null  float64\n",
      " 8   rotationRate.z      423372 non-null  float64\n",
      " 9   userAcceleration.x  423372 non-null  float64\n",
      " 10  userAcceleration.y  423372 non-null  float64\n",
      " 11  userAcceleration.z  423372 non-null  float64\n",
      " 12  category            423372 non-null  object \n",
      "dtypes: float64(12), object(1)\n",
      "memory usage: 42.0+ MB\n"
     ]
    }
   ],
   "source": [
    "df_motionSense_copy.info()"
   ]
  },
  {
   "cell_type": "markdown",
   "metadata": {},
   "source": [
    "+ Utilização do 'LabelEncoder' da biblioteca scikit-learn para transformar a coluna 'category' do DataFrame 'df_motionSense_copy' numa coluna numérica\n",
    "\n",
    "Resultado armazenado numa nova coluna 'category_encoded'"
   ]
  },
  {
   "cell_type": "code",
   "execution_count": 41,
   "metadata": {},
   "outputs": [
    {
     "name": "stdout",
     "output_type": "stream",
     "text": [
      "['dws' 'jog' 'ups']\n",
      "category_encoded\n",
      "2    157285\n",
      "1    134231\n",
      "0    131856\n",
      "Name: count, dtype: int64\n"
     ]
    }
   ],
   "source": [
    "from sklearn.preprocessing import LabelEncoder\n",
    "\n",
    "encoder = LabelEncoder()\n",
    "df_motionSense_copy['category_encoded'] = encoder.fit_transform(df_motionSense_copy['category'])\n",
    "\n",
    "print(encoder.classes_)\n",
    "print(df_motionSense_copy['category_encoded'].value_counts())"
   ]
  },
  {
   "cell_type": "markdown",
   "metadata": {},
   "source": [
    "+ Normalização das *features* do *dataset* 'df_motionSense_copy' usando `StandardScaler` da biblioteca scikit-learn."
   ]
  },
  {
   "cell_type": "code",
   "execution_count": 45,
   "metadata": {},
   "outputs": [],
   "source": [
    "from sklearn.preprocessing import StandardScaler\n",
    "\n",
    "scaler = StandardScaler()\n",
    "\n",
    "features = df_motionSense_copy.drop(columns=['category', 'category_encoded'])\n",
    "\n",
    "scaled_features = scaler.fit_transform(features)\n",
    "\n",
    "df_motionSense_copy_scaled = pd.DataFrame(scaled_features, columns=features.columns)"
   ]
  },
  {
   "cell_type": "markdown",
   "metadata": {},
   "source": [
    "+ Junção da coluna 'category_encoded' do *dataset* 'df_motionSense_copy' ao *dataset* 'df_motionSense_copy_scaled'"
   ]
  },
  {
   "cell_type": "code",
   "execution_count": 46,
   "metadata": {},
   "outputs": [],
   "source": [
    "df_motionSense_copy_scaled['category_encoded'] = df_motionSense_copy['category_encoded']"
   ]
  },
  {
   "cell_type": "markdown",
   "metadata": {},
   "source": [
    "+ Visualização dos 5 primeiros valores do Dataframe final utilizando o método `head())`"
   ]
  },
  {
   "cell_type": "code",
   "execution_count": 49,
   "metadata": {},
   "outputs": [
    {
     "data": {
      "text/html": [
       "<div>\n",
       "<style scoped>\n",
       "    .dataframe tbody tr th:only-of-type {\n",
       "        vertical-align: middle;\n",
       "    }\n",
       "\n",
       "    .dataframe tbody tr th {\n",
       "        vertical-align: top;\n",
       "    }\n",
       "\n",
       "    .dataframe thead th {\n",
       "        text-align: right;\n",
       "    }\n",
       "</style>\n",
       "<table border=\"1\" class=\"dataframe\">\n",
       "  <thead>\n",
       "    <tr style=\"text-align: right;\">\n",
       "      <th></th>\n",
       "      <th>attitude.roll</th>\n",
       "      <th>attitude.pitch</th>\n",
       "      <th>attitude.yaw</th>\n",
       "      <th>gravity.x</th>\n",
       "      <th>gravity.y</th>\n",
       "      <th>gravity.z</th>\n",
       "      <th>rotationRate.x</th>\n",
       "      <th>rotationRate.y</th>\n",
       "      <th>rotationRate.z</th>\n",
       "      <th>userAcceleration.x</th>\n",
       "      <th>userAcceleration.y</th>\n",
       "      <th>userAcceleration.z</th>\n",
       "      <th>category_encoded</th>\n",
       "    </tr>\n",
       "  </thead>\n",
       "  <tbody>\n",
       "    <tr>\n",
       "      <th>0</th>\n",
       "      <td>0.972412</td>\n",
       "      <td>1.112051</td>\n",
       "      <td>0.372160</td>\n",
       "      <td>2.329043</td>\n",
       "      <td>-0.814143</td>\n",
       "      <td>0.190001</td>\n",
       "      <td>0.163109</td>\n",
       "      <td>0.417746</td>\n",
       "      <td>0.891213</td>\n",
       "      <td>0.591696</td>\n",
       "      <td>-0.307112</td>\n",
       "      <td>0.677785</td>\n",
       "      <td>0</td>\n",
       "    </tr>\n",
       "    <tr>\n",
       "      <th>1</th>\n",
       "      <td>0.972325</td>\n",
       "      <td>1.157371</td>\n",
       "      <td>0.361670</td>\n",
       "      <td>2.365755</td>\n",
       "      <td>-0.865384</td>\n",
       "      <td>0.187932</td>\n",
       "      <td>0.443882</td>\n",
       "      <td>0.221714</td>\n",
       "      <td>0.524710</td>\n",
       "      <td>0.436217</td>\n",
       "      <td>-0.038492</td>\n",
       "      <td>0.186239</td>\n",
       "      <td>0</td>\n",
       "    </tr>\n",
       "    <tr>\n",
       "      <th>2</th>\n",
       "      <td>0.972184</td>\n",
       "      <td>1.184141</td>\n",
       "      <td>0.357830</td>\n",
       "      <td>2.387092</td>\n",
       "      <td>-0.896006</td>\n",
       "      <td>0.186328</td>\n",
       "      <td>-0.080028</td>\n",
       "      <td>-0.036082</td>\n",
       "      <td>0.274351</td>\n",
       "      <td>0.006391</td>\n",
       "      <td>0.082024</td>\n",
       "      <td>-0.342729</td>\n",
       "      <td>0</td>\n",
       "    </tr>\n",
       "    <tr>\n",
       "      <th>3</th>\n",
       "      <td>0.965350</td>\n",
       "      <td>1.190361</td>\n",
       "      <td>0.360527</td>\n",
       "      <td>2.390690</td>\n",
       "      <td>-0.903162</td>\n",
       "      <td>0.156397</td>\n",
       "      <td>-0.019555</td>\n",
       "      <td>-0.594680</td>\n",
       "      <td>0.017573</td>\n",
       "      <td>-0.032954</td>\n",
       "      <td>0.084569</td>\n",
       "      <td>0.148985</td>\n",
       "      <td>0</td>\n",
       "    </tr>\n",
       "    <tr>\n",
       "      <th>4</th>\n",
       "      <td>0.951164</td>\n",
       "      <td>1.192398</td>\n",
       "      <td>0.358982</td>\n",
       "      <td>2.388570</td>\n",
       "      <td>-0.905503</td>\n",
       "      <td>0.094676</td>\n",
       "      <td>0.054879</td>\n",
       "      <td>-0.519408</td>\n",
       "      <td>0.027154</td>\n",
       "      <td>0.395098</td>\n",
       "      <td>0.349372</td>\n",
       "      <td>-0.111607</td>\n",
       "      <td>0</td>\n",
       "    </tr>\n",
       "  </tbody>\n",
       "</table>\n",
       "</div>"
      ],
      "text/plain": [
       "   attitude.roll  attitude.pitch  attitude.yaw  gravity.x  gravity.y  \\\n",
       "0       0.972412        1.112051      0.372160   2.329043  -0.814143   \n",
       "1       0.972325        1.157371      0.361670   2.365755  -0.865384   \n",
       "2       0.972184        1.184141      0.357830   2.387092  -0.896006   \n",
       "3       0.965350        1.190361      0.360527   2.390690  -0.903162   \n",
       "4       0.951164        1.192398      0.358982   2.388570  -0.905503   \n",
       "\n",
       "   gravity.z  rotationRate.x  rotationRate.y  rotationRate.z  \\\n",
       "0   0.190001        0.163109        0.417746        0.891213   \n",
       "1   0.187932        0.443882        0.221714        0.524710   \n",
       "2   0.186328       -0.080028       -0.036082        0.274351   \n",
       "3   0.156397       -0.019555       -0.594680        0.017573   \n",
       "4   0.094676        0.054879       -0.519408        0.027154   \n",
       "\n",
       "   userAcceleration.x  userAcceleration.y  userAcceleration.z  \\\n",
       "0            0.591696           -0.307112            0.677785   \n",
       "1            0.436217           -0.038492            0.186239   \n",
       "2            0.006391            0.082024           -0.342729   \n",
       "3           -0.032954            0.084569            0.148985   \n",
       "4            0.395098            0.349372           -0.111607   \n",
       "\n",
       "   category_encoded  \n",
       "0                 0  \n",
       "1                 0  \n",
       "2                 0  \n",
       "3                 0  \n",
       "4                 0  "
      ]
     },
     "execution_count": 49,
     "metadata": {},
     "output_type": "execute_result"
    }
   ],
   "source": [
    "df_motionSense_copy_scaled.head(5)"
   ]
  },
  {
   "cell_type": "markdown",
   "metadata": {},
   "source": [
    "+ Guardar o Dataframe final num novo ficheiro .csv 'preprocessDataset.csv'"
   ]
  },
  {
   "cell_type": "code",
   "execution_count": 29,
   "metadata": {},
   "outputs": [],
   "source": [
    "base_dir = r'C:\\\\Users\\\\maria\\\\OneDrive - Instituto Superior de Engenharia do Porto\\\\Desktop\\\\Semestre\\\\APROF\\\\mei-approf\\\\RNN\\\\datasets'\n",
    "file_name = 'preprocessDataset.csv'\n",
    "\n",
    "file_path = os.path.join(base_dir, file_name)\n",
    "\n",
    "df_motionSense_copy_scaled.to_csv(file_path, index=False)"
   ]
  }
 ],
 "metadata": {
  "kernelspec": {
   "display_name": "ENV_FACULDADE",
   "language": "python",
   "name": "python3"
  },
  "language_info": {
   "codemirror_mode": {
    "name": "ipython",
    "version": 3
   },
   "file_extension": ".py",
   "mimetype": "text/x-python",
   "name": "python",
   "nbconvert_exporter": "python",
   "pygments_lexer": "ipython3",
   "version": "3.11.8"
  }
 },
 "nbformat": 4,
 "nbformat_minor": 2
}
