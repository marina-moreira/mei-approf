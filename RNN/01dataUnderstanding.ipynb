{
 "cells": [
  {
   "cell_type": "markdown",
   "metadata": {},
   "source": [
    "https://www.kaggle.com/code/khnhhunhhong/final-project-data-mining#PROCESS-DATAFRAME\n",
    "\n",
    "https://www.kaggle.com/code/hissain/motionsense-dataset-using-lstm#Loading-Motion-Sensor-Data-into-Pandas-DataFrame"
   ]
  },
  {
   "cell_type": "markdown",
   "metadata": {},
   "source": [
    "+ Methodology: The methodology for each problem must include different model configurations, including model.summary() of the best architecture. It is strongly recommended to include a diagram of the network architecture. Additionally, examples of the best-case scenarios (at least 3 examples) and worst-case scenarios (at least 3 examples) should be included in the paper. \n",
    "\n",
    "+ Paper Content: The paper must contain proper sources cited. \n",
    "\n",
    "+ Pretrained Models: If utilizing pretrained models, students must specify why the model was chosen. The final model cannot solely rely on the pretrained model unless a valid reason is provided. \n",
    "\n",
    "+ Data Preprocessing: Data preprocessing steps must be specified along with the reasons for each step. If any steps are omitted, the reason must also be explained. \n",
    "\n",
    "+ Results: Results obtained from experiments must be shown, including the number of experiments conducted, the corresponding results and model curves. \n",
    "\n",
    "+ Model Configuration: The rationale behind the choice of loss function, optimizer, and evaluation metrics must be specified. "
   ]
  },
  {
   "cell_type": "markdown",
   "metadata": {},
   "source": [
    "## `MotionSense Dataset`"
   ]
  },
  {
   "cell_type": "markdown",
   "metadata": {},
   "source": [
    "### **Índice do documento**\n",
    "\n",
    "1. [Introdução](#1.-Introdução)    \n",
    "    \n",
    "2. [Compreensão do Dados](#2.-Compreensão-dos-Dados)\n",
    "\n",
    "    2.1 [Carregamento das Bibliotecas Base](#2.1-Carregamento-das-Bibliotecas-Base)\n",
    "    \n",
    "    2.2 [Carregamento e Análise do *Dataset*](#2.2-Carregamento-e-Análise-do-*Dataset*)\n",
    "\n",
    "    2.3 [Visualização do *Dataset*](#2.3-Visualização-do-*Dataset*)"
   ]
  },
  {
   "cell_type": "markdown",
   "metadata": {},
   "source": [
    "### **Índice do documento**\n",
    "\n",
    "1. [Introdução](#1.-Introdução)    \n",
    "    \n",
    "2. [Data Understanding](#2.-Data-Understanding)\n",
    "\n",
    "    2.1 [Carregamento das Bibliotecas Base](#2.1-Carregamento-das-Bibliotecas-Base)\n",
    "    \n",
    "    2.2 [Dataset Acquisition](#2.2-Dataset-Acquisition)\n",
    "\n",
    "    2.3 [Exploratory Data Analysis (EDA)](#2.3-Exploratory-Data-Analysis-(EDA))\n",
    "    \n",
    "    "
   ]
  },
  {
   "cell_type": "markdown",
   "metadata": {},
   "source": [
    "# **1. Introdução**"
   ]
  },
  {
   "cell_type": "markdown",
   "metadata": {},
   "source": [
    "For this problem set, students are tasked with developing a deep learning model using Recurrent Neural Networks (RNNs) to classify various motion activities based on sensory data from motion sensors. \n",
    "\n",
    "The dataset, contains data on activities such as sitting, jogging, walking, standing, etc., captured as time series. \n",
    "\n",
    "Link: https://www.kaggle.com/datasets/malekzadeh/motionsense-dataset?select=A_DeviceMotion_data  \n",
    "\n",
    "The objective of this problem is to explore the impact of different layers (e.g., LSTM and RNNs) and different time windows on the classification performance. Due to the significant number of output classes, only 3 should be chosen to develop models. It is expected that the accuracy for each class, on average, exceeds 80%. \n",
    "\n",
    "Furthermore, the work conducted for this problem set should address the following questions, ideally within the paper: \n",
    "+ How does the choice of RNN layers, such as LSTM and traditional RNNs, affect the classification performance? \n",
    "+ What is the impact of varying time windows on the model's ability to classify different motion activities? \n",
    "+ How do different combinations of RNN layers and time windows influence the model's overall accuracy and robustness? \n",
    "\n",
    "Evaluate the model results with learned techniques during the classes and make conclusions."
   ]
  },
  {
   "cell_type": "markdown",
   "metadata": {},
   "source": [
    "[Voltar ao ínicio](#Índice-do-documento)"
   ]
  },
  {
   "cell_type": "markdown",
   "metadata": {},
   "source": [
    "# **2. Compreensão dos Dados**"
   ]
  },
  {
   "cell_type": "markdown",
   "metadata": {},
   "source": [
    "## **2.1 Carregamento das Bibliotecas Base**"
   ]
  },
  {
   "cell_type": "code",
   "execution_count": 86,
   "metadata": {},
   "outputs": [
    {
     "data": {
      "image/png": "[encoded data removed]",
      "text/html": [
       "<div style=\"vertical-align: middle;\"><strong>bone_r</strong> </div><div class=\"cmap\"><img alt=\"bone_r colormap\" title=\"bone_r\" style=\"border: 1px solid #555;\" src=\"data:image/png;base64,iVBORw0KGgoAAAANSUhEUgAAAgAAAABACAYAAABsv8+/AAAAFXRFWHRUaXRsZQBib25lX3IgY29sb3JtYXCujrBGAAAAG3RFWHREZXNjcmlwdGlvbgBib25lX3IgY29sb3JtYXDnGaiiAAAAMHRFWHRBdXRob3IATWF0cGxvdGxpYiB2My44LjMsIGh0dHBzOi8vbWF0cGxvdGxpYi5vcmeqnk4cAAAAMnRFWHRTb2Z0d2FyZQBNYXRwbG90bGliIHYzLjguMywgaHR0cHM6Ly9tYXRwbG90bGliLm9yZ4Q40TsAAAHFSURBVHic7dZBbsIwFEDB397/zKSLQisR3DQtEos3s0EksWNjCb23bdu2mZnL58dcv+6+L6/P7fo8dfzq+VePX847/xt/ff35c5jb9T+Ov3v/dnn8/P3n7J57vP/VfLO7vxi/mGd2z51b/3a5n+fc+vf7OFj/4T7mx+eOz+Hg/UfncPL3++/5v3r9vz7/68Eu1z8/3z+aZ+Z371nN8z3+3Lpv99fjD9b99b/xx3Xv/r/OrfvV+z9/fs/d/3r8uXW/DwCQIwAAIEgAAECQAACAIAEAAEECAACCBAAABAkAAAgSAAAQJAAAIEgAAECQAACAIAEAAEECAACCBAAABAkAAAgSAAAQJAAAIEgAAECQAACAIAEAAEECAACCBAAABAkAAAgSAAAQJAAAIEgAAECQAACAIAEAAEECAACCBAAABAkAAAgSAAAQJAAAIEgAAECQAACAIAEAAEECAACCBAAABAkAAAgSAAAQJAAAIEgAAECQAACAIAEAAEECAACCBAAABAkAAAgSAAAQJAAAIEgAAECQAACAIAEAAEECAACCBAAABAkAAAgSAAAQJAAAIEgAAECQAACAIAEAAEECAACCBAAABH0A+Gm+nfb+AtsAAAAASUVORK5CYII=\"></div><div style=\"vertical-align: middle; max-width: 514px; display: flex; justify-content: space-between;\"><div style=\"float: left;\"><div title=\"#ffffffff\" style=\"display: inline-block; width: 1em; height: 1em; margin: 0; vertical-align: middle; border: 1px solid #555; background-color: #ffffffff;\"></div> under</div><div style=\"margin: 0 auto; display: inline-block;\">bad <div title=\"#00000000\" style=\"display: inline-block; width: 1em; height: 1em; margin: 0; vertical-align: middle; border: 1px solid #555; background-color: #00000000;\"></div></div><div style=\"float: right;\">over <div title=\"#000000ff\" style=\"display: inline-block; width: 1em; height: 1em; margin: 0; vertical-align: middle; border: 1px solid #555; background-color: #000000ff;\"></div></div>"
      ],
      "text/plain": [
       "<matplotlib.colors.LinearSegmentedColormap at 0x1890cb32a10>"
      ]
     },
     "execution_count": 86,
     "metadata": {},
     "output_type": "execute_result"
    }
   ],
   "source": [
    "import os\n",
    "import numpy as np\n",
    "import pandas as pd\n",
    "\n",
    "import seaborn as sns\n",
    "import matplotlib.pyplot as plt\n",
    "\n",
    "\n",
    "import warnings\n",
    "warnings.filterwarnings('ignore')\n",
    "\n",
    "sns.set_style(\"whitegrid\")\n",
    "sns.color_palette(\"bone_r\", as_cmap=True)"
   ]
  },
  {
   "cell_type": "markdown",
   "metadata": {},
   "source": [
    "## **2.2 Carregamento e Análise do Dataset**"
   ]
  },
  {
   "cell_type": "markdown",
   "metadata": {},
   "source": [
    "+ Definição dos Caminhos"
   ]
  },
  {
   "cell_type": "code",
   "execution_count": 87,
   "metadata": {},
   "outputs": [],
   "source": [
    "# Caminhos absolutos dos arquivos\n",
    "subject_data_file = r'C:\\\\Users\\\\maria\\\\OneDrive - Instituto Superior de Engenharia do Porto\\\\Desktop\\\\Semestre\\APROF\\\\mei-approf\\\\RNN\\\\RNN_dataset\\\\data_subjects_info.csv'\n",
    "data_dir = r'C:\\\\Users\\\\maria\\\\OneDrive - Instituto Superior de Engenharia do Porto\\\\Desktop\\\\Semestre\\\\APROF\\\\mei-approf\\\\RNN\\\\RNN_dataset\\\\A_DeviceMotion_data'\n",
    "\n",
    "# Verificar se os diretórios e arquivos existem\n",
    "if not os.path.exists(data_dir):\n",
    "    raise FileNotFoundError(f\"O diretório {data_dir} não foi encontrado.\")\n",
    "\n",
    "if not os.path.exists(subject_data_file):\n",
    "    raise FileNotFoundError(f\"O arquivo {subject_data_file} não foi encontrado.\")"
   ]
  },
  {
   "cell_type": "markdown",
   "metadata": {},
   "source": [
    "+ Mudança de Diretório"
   ]
  },
  {
   "cell_type": "code",
   "execution_count": 88,
   "metadata": {},
   "outputs": [],
   "source": [
    "os.chdir(data_dir)\n",
    "os.chdir(os.pardir)"
   ]
  },
  {
   "cell_type": "markdown",
   "metadata": {},
   "source": [
    "+ Função para Obter Todos os Caminhos dos Arquivos do Conjunto de Dados"
   ]
  },
  {
   "cell_type": "markdown",
   "metadata": {},
   "source": [
    "`get_all_dataset_paths`: Percorre recursivamente todos os subdiretórios em input_dir e recolhe os caminhos de todos os arquivos CSV encontrados."
   ]
  },
  {
   "cell_type": "code",
   "execution_count": 89,
   "metadata": {},
   "outputs": [],
   "source": [
    "def get_all_dataset_paths(input_dir) -> []:\n",
    "    input_files = []\n",
    "    for dirs, subdirs, files in os.walk(input_dir):\n",
    "        for file in files:\n",
    "            if file.endswith('.csv'):\n",
    "                dir_name = os.path.basename(dirs)\n",
    "                if dir_name.startswith(('dws', 'ups', 'sit')):\n",
    "                    input_files.append(os.path.join(dirs, file))\n",
    "    return input_files"
   ]
  },
  {
   "cell_type": "markdown",
   "metadata": {},
   "source": [
    "+ Função para Carregar os Dados e Combinar com Metadados"
   ]
  },
  {
   "cell_type": "markdown",
   "metadata": {},
   "source": [
    "`load_whole_dataframe_from_paths`: Carrega cada arquivo CSV listado em paths, adiciona colunas de metadados (subject_id, session_id, category, age, gender, height, weight) e concatena todos os dados em um único DataFrame."
   ]
  },
  {
   "cell_type": "code",
   "execution_count": 90,
   "metadata": {},
   "outputs": [],
   "source": [
    "def load_whole_dataframe_from_paths(paths, meta) -> pd.DataFrame:\n",
    "    \n",
    "    df = pd.DataFrame()\n",
    "\n",
    "    for p in paths:\n",
    "        c_dir, c_file = p.split('\\\\')[-2], p.split('\\\\')[-1]\n",
    "        c_cat, c_ses = c_dir.split('_')[-2], c_dir.split('_')[-1]\n",
    "        c_sub = c_file.split('_')[-1].split('.')[-2]\n",
    "        \n",
    "        tdf = pd.read_csv(p, encoding = \"utf-8\")\n",
    "        tdf = tdf.assign(subject_id = int(c_sub))\n",
    "        tdf = tdf.assign(session_id = int(c_ses))\n",
    "        tdf = tdf.assign(category = str(c_cat))\n",
    "        tdf = tdf.assign(age = int(meta.age[int(c_sub) - 1]))\n",
    "        tdf = tdf.assign(gender = int(meta.gender[int(c_sub) - 1]))\n",
    "        tdf = tdf.assign(height = int(meta.height[int(c_sub) - 1]))\n",
    "        tdf = tdf.assign(weight = int(meta.weight[int(c_sub) - 1]))\n",
    "\n",
    "        df = pd.concat([df, tdf])\n",
    "    \n",
    "    df.reset_index(drop=True, inplace=True)\n",
    "    return df"
   ]
  },
  {
   "cell_type": "markdown",
   "metadata": {},
   "source": [
    "+ Carregar os Metadados e Todos os Caminhos dos Arquivos do Conjunto de Dados"
   ]
  },
  {
   "cell_type": "markdown",
   "metadata": {},
   "source": [
    "`subject_data_frame`: Carrega os metadados dos sujeitos a partir do arquivo CSV.\n",
    "\n",
    "`all_dataset_paths`: Obtém todos os caminhos dos arquivos CSV no diretório de dados.\n",
    "\n",
    "`data_frame`: Carrega e combina todos os dados dos arquivos CSV com os metadados."
   ]
  },
  {
   "cell_type": "code",
   "execution_count": 91,
   "metadata": {},
   "outputs": [],
   "source": [
    "subject_data_frame = pd.DataFrame(pd.read_csv(subject_data_file, encoding = \"utf-8\"))\n",
    "all_dataset_paths = get_all_dataset_paths(data_dir)\n",
    "df_motionSense = load_whole_dataframe_from_paths(all_dataset_paths, subject_data_frame)"
   ]
  },
  {
   "cell_type": "code",
   "execution_count": 105,
   "metadata": {},
   "outputs": [],
   "source": [
    "#linha_filtrada = df_motionSense.loc[(df_motionSense['session_id'] == 5) & (df_motionSense['category'] == 'sit')]\n",
    "#linha_filtrada"
   ]
  },
  {
   "cell_type": "code",
   "execution_count": 93,
   "metadata": {},
   "outputs": [
    {
     "data": {
      "text/html": [
       "<div>\n",
       "<style scoped>\n",
       "    .dataframe tbody tr th:only-of-type {\n",
       "        vertical-align: middle;\n",
       "    }\n",
       "\n",
       "    .dataframe tbody tr th {\n",
       "        vertical-align: top;\n",
       "    }\n",
       "\n",
       "    .dataframe thead th {\n",
       "        text-align: right;\n",
       "    }\n",
       "</style>\n",
       "<table border=\"1\" class=\"dataframe\">\n",
       "  <thead>\n",
       "    <tr style=\"text-align: right;\">\n",
       "      <th></th>\n",
       "      <th>Unnamed: 0</th>\n",
       "      <th>attitude.roll</th>\n",
       "      <th>attitude.pitch</th>\n",
       "      <th>attitude.yaw</th>\n",
       "      <th>gravity.x</th>\n",
       "      <th>gravity.y</th>\n",
       "      <th>gravity.z</th>\n",
       "      <th>rotationRate.x</th>\n",
       "      <th>rotationRate.y</th>\n",
       "      <th>rotationRate.z</th>\n",
       "      <th>userAcceleration.x</th>\n",
       "      <th>userAcceleration.y</th>\n",
       "      <th>userAcceleration.z</th>\n",
       "      <th>subject_id</th>\n",
       "      <th>session_id</th>\n",
       "      <th>category</th>\n",
       "      <th>age</th>\n",
       "      <th>gender</th>\n",
       "      <th>height</th>\n",
       "      <th>weight</th>\n",
       "    </tr>\n",
       "  </thead>\n",
       "  <tbody>\n",
       "    <tr>\n",
       "      <th>0</th>\n",
       "      <td>0</td>\n",
       "      <td>1.528132</td>\n",
       "      <td>-0.733896</td>\n",
       "      <td>0.696372</td>\n",
       "      <td>0.741895</td>\n",
       "      <td>0.669768</td>\n",
       "      <td>-0.031672</td>\n",
       "      <td>0.316738</td>\n",
       "      <td>0.778180</td>\n",
       "      <td>1.082764</td>\n",
       "      <td>0.294894</td>\n",
       "      <td>-0.184493</td>\n",
       "      <td>0.377542</td>\n",
       "      <td>1</td>\n",
       "      <td>1</td>\n",
       "      <td>dws</td>\n",
       "      <td>46</td>\n",
       "      <td>1</td>\n",
       "      <td>188</td>\n",
       "      <td>102</td>\n",
       "    </tr>\n",
       "    <tr>\n",
       "      <th>1</th>\n",
       "      <td>1</td>\n",
       "      <td>1.527992</td>\n",
       "      <td>-0.716987</td>\n",
       "      <td>0.677762</td>\n",
       "      <td>0.753099</td>\n",
       "      <td>0.657116</td>\n",
       "      <td>-0.032255</td>\n",
       "      <td>0.842032</td>\n",
       "      <td>0.424446</td>\n",
       "      <td>0.643574</td>\n",
       "      <td>0.219405</td>\n",
       "      <td>0.035846</td>\n",
       "      <td>0.114866</td>\n",
       "      <td>1</td>\n",
       "      <td>1</td>\n",
       "      <td>dws</td>\n",
       "      <td>46</td>\n",
       "      <td>1</td>\n",
       "      <td>188</td>\n",
       "      <td>102</td>\n",
       "    </tr>\n",
       "    <tr>\n",
       "      <th>2</th>\n",
       "      <td>2</td>\n",
       "      <td>1.527765</td>\n",
       "      <td>-0.706999</td>\n",
       "      <td>0.670951</td>\n",
       "      <td>0.759611</td>\n",
       "      <td>0.649555</td>\n",
       "      <td>-0.032707</td>\n",
       "      <td>-0.138143</td>\n",
       "      <td>-0.040741</td>\n",
       "      <td>0.343563</td>\n",
       "      <td>0.010714</td>\n",
       "      <td>0.134701</td>\n",
       "      <td>-0.167808</td>\n",
       "      <td>1</td>\n",
       "      <td>1</td>\n",
       "      <td>dws</td>\n",
       "      <td>46</td>\n",
       "      <td>1</td>\n",
       "      <td>188</td>\n",
       "      <td>102</td>\n",
       "    </tr>\n",
       "    <tr>\n",
       "      <th>3</th>\n",
       "      <td>3</td>\n",
       "      <td>1.516768</td>\n",
       "      <td>-0.704678</td>\n",
       "      <td>0.675735</td>\n",
       "      <td>0.760709</td>\n",
       "      <td>0.647788</td>\n",
       "      <td>-0.041140</td>\n",
       "      <td>-0.025005</td>\n",
       "      <td>-1.048717</td>\n",
       "      <td>0.035860</td>\n",
       "      <td>-0.008389</td>\n",
       "      <td>0.136788</td>\n",
       "      <td>0.094958</td>\n",
       "      <td>1</td>\n",
       "      <td>1</td>\n",
       "      <td>dws</td>\n",
       "      <td>46</td>\n",
       "      <td>1</td>\n",
       "      <td>188</td>\n",
       "      <td>102</td>\n",
       "    </tr>\n",
       "    <tr>\n",
       "      <th>4</th>\n",
       "      <td>4</td>\n",
       "      <td>1.493941</td>\n",
       "      <td>-0.703918</td>\n",
       "      <td>0.672994</td>\n",
       "      <td>0.760062</td>\n",
       "      <td>0.647210</td>\n",
       "      <td>-0.058530</td>\n",
       "      <td>0.114253</td>\n",
       "      <td>-0.912890</td>\n",
       "      <td>0.047341</td>\n",
       "      <td>0.199441</td>\n",
       "      <td>0.353996</td>\n",
       "      <td>-0.044299</td>\n",
       "      <td>1</td>\n",
       "      <td>1</td>\n",
       "      <td>dws</td>\n",
       "      <td>46</td>\n",
       "      <td>1</td>\n",
       "      <td>188</td>\n",
       "      <td>102</td>\n",
       "    </tr>\n",
       "    <tr>\n",
       "      <th>5</th>\n",
       "      <td>5</td>\n",
       "      <td>1.476302</td>\n",
       "      <td>-0.700807</td>\n",
       "      <td>0.669443</td>\n",
       "      <td>0.760912</td>\n",
       "      <td>0.644835</td>\n",
       "      <td>-0.072116</td>\n",
       "      <td>0.187742</td>\n",
       "      <td>-0.763656</td>\n",
       "      <td>0.226057</td>\n",
       "      <td>0.168241</td>\n",
       "      <td>0.145906</td>\n",
       "      <td>0.012455</td>\n",
       "      <td>1</td>\n",
       "      <td>1</td>\n",
       "      <td>dws</td>\n",
       "      <td>46</td>\n",
       "      <td>1</td>\n",
       "      <td>188</td>\n",
       "      <td>102</td>\n",
       "    </tr>\n",
       "    <tr>\n",
       "      <th>6</th>\n",
       "      <td>6</td>\n",
       "      <td>1.455153</td>\n",
       "      <td>-0.694408</td>\n",
       "      <td>0.662593</td>\n",
       "      <td>0.763300</td>\n",
       "      <td>0.639930</td>\n",
       "      <td>-0.088666</td>\n",
       "      <td>0.343096</td>\n",
       "      <td>-0.803820</td>\n",
       "      <td>0.278468</td>\n",
       "      <td>0.079382</td>\n",
       "      <td>-0.026344</td>\n",
       "      <td>-0.195590</td>\n",
       "      <td>1</td>\n",
       "      <td>1</td>\n",
       "      <td>dws</td>\n",
       "      <td>46</td>\n",
       "      <td>1</td>\n",
       "      <td>188</td>\n",
       "      <td>102</td>\n",
       "    </tr>\n",
       "    <tr>\n",
       "      <th>7</th>\n",
       "      <td>7</td>\n",
       "      <td>1.441702</td>\n",
       "      <td>-0.690710</td>\n",
       "      <td>0.656459</td>\n",
       "      <td>0.764380</td>\n",
       "      <td>0.637084</td>\n",
       "      <td>-0.099229</td>\n",
       "      <td>0.176202</td>\n",
       "      <td>-0.172756</td>\n",
       "      <td>0.056415</td>\n",
       "      <td>0.069360</td>\n",
       "      <td>0.072678</td>\n",
       "      <td>-0.102920</td>\n",
       "      <td>1</td>\n",
       "      <td>1</td>\n",
       "      <td>dws</td>\n",
       "      <td>46</td>\n",
       "      <td>1</td>\n",
       "      <td>188</td>\n",
       "      <td>102</td>\n",
       "    </tr>\n",
       "    <tr>\n",
       "      <th>8</th>\n",
       "      <td>8</td>\n",
       "      <td>1.443440</td>\n",
       "      <td>-0.691905</td>\n",
       "      <td>0.651196</td>\n",
       "      <td>0.763796</td>\n",
       "      <td>0.638005</td>\n",
       "      <td>-0.097803</td>\n",
       "      <td>0.274786</td>\n",
       "      <td>0.446585</td>\n",
       "      <td>-0.132766</td>\n",
       "      <td>0.072889</td>\n",
       "      <td>0.079921</td>\n",
       "      <td>-0.075323</td>\n",
       "      <td>1</td>\n",
       "      <td>1</td>\n",
       "      <td>dws</td>\n",
       "      <td>46</td>\n",
       "      <td>1</td>\n",
       "      <td>188</td>\n",
       "      <td>102</td>\n",
       "    </tr>\n",
       "    <tr>\n",
       "      <th>9</th>\n",
       "      <td>9</td>\n",
       "      <td>1.443071</td>\n",
       "      <td>-0.693039</td>\n",
       "      <td>0.638198</td>\n",
       "      <td>0.763042</td>\n",
       "      <td>0.638878</td>\n",
       "      <td>-0.097993</td>\n",
       "      <td>0.633672</td>\n",
       "      <td>0.316372</td>\n",
       "      <td>-0.115137</td>\n",
       "      <td>0.098347</td>\n",
       "      <td>-0.017021</td>\n",
       "      <td>-0.197310</td>\n",
       "      <td>1</td>\n",
       "      <td>1</td>\n",
       "      <td>dws</td>\n",
       "      <td>46</td>\n",
       "      <td>1</td>\n",
       "      <td>188</td>\n",
       "      <td>102</td>\n",
       "    </tr>\n",
       "  </tbody>\n",
       "</table>\n",
       "</div>"
      ],
      "text/plain": [
       "   Unnamed: 0  attitude.roll  attitude.pitch  attitude.yaw  gravity.x  \\\n",
       "0           0       1.528132       -0.733896      0.696372   0.741895   \n",
       "1           1       1.527992       -0.716987      0.677762   0.753099   \n",
       "2           2       1.527765       -0.706999      0.670951   0.759611   \n",
       "3           3       1.516768       -0.704678      0.675735   0.760709   \n",
       "4           4       1.493941       -0.703918      0.672994   0.760062   \n",
       "5           5       1.476302       -0.700807      0.669443   0.760912   \n",
       "6           6       1.455153       -0.694408      0.662593   0.763300   \n",
       "7           7       1.441702       -0.690710      0.656459   0.764380   \n",
       "8           8       1.443440       -0.691905      0.651196   0.763796   \n",
       "9           9       1.443071       -0.693039      0.638198   0.763042   \n",
       "\n",
       "   gravity.y  gravity.z  rotationRate.x  rotationRate.y  rotationRate.z  \\\n",
       "0   0.669768  -0.031672        0.316738        0.778180        1.082764   \n",
       "1   0.657116  -0.032255        0.842032        0.424446        0.643574   \n",
       "2   0.649555  -0.032707       -0.138143       -0.040741        0.343563   \n",
       "3   0.647788  -0.041140       -0.025005       -1.048717        0.035860   \n",
       "4   0.647210  -0.058530        0.114253       -0.912890        0.047341   \n",
       "5   0.644835  -0.072116        0.187742       -0.763656        0.226057   \n",
       "6   0.639930  -0.088666        0.343096       -0.803820        0.278468   \n",
       "7   0.637084  -0.099229        0.176202       -0.172756        0.056415   \n",
       "8   0.638005  -0.097803        0.274786        0.446585       -0.132766   \n",
       "9   0.638878  -0.097993        0.633672        0.316372       -0.115137   \n",
       "\n",
       "   userAcceleration.x  userAcceleration.y  userAcceleration.z  subject_id  \\\n",
       "0            0.294894           -0.184493            0.377542           1   \n",
       "1            0.219405            0.035846            0.114866           1   \n",
       "2            0.010714            0.134701           -0.167808           1   \n",
       "3           -0.008389            0.136788            0.094958           1   \n",
       "4            0.199441            0.353996           -0.044299           1   \n",
       "5            0.168241            0.145906            0.012455           1   \n",
       "6            0.079382           -0.026344           -0.195590           1   \n",
       "7            0.069360            0.072678           -0.102920           1   \n",
       "8            0.072889            0.079921           -0.075323           1   \n",
       "9            0.098347           -0.017021           -0.197310           1   \n",
       "\n",
       "   session_id category  age  gender  height  weight  \n",
       "0           1      dws   46       1     188     102  \n",
       "1           1      dws   46       1     188     102  \n",
       "2           1      dws   46       1     188     102  \n",
       "3           1      dws   46       1     188     102  \n",
       "4           1      dws   46       1     188     102  \n",
       "5           1      dws   46       1     188     102  \n",
       "6           1      dws   46       1     188     102  \n",
       "7           1      dws   46       1     188     102  \n",
       "8           1      dws   46       1     188     102  \n",
       "9           1      dws   46       1     188     102  "
      ]
     },
     "execution_count": 93,
     "metadata": {},
     "output_type": "execute_result"
    }
   ],
   "source": [
    "df_motionSense.head(10)"
   ]
  },
  {
   "cell_type": "markdown",
   "metadata": {},
   "source": [
    "## **2.5 Visualizing Categorical Data Distribution**\n",
    "\n",
    "We use Seaborn and Matplotlib to create a countplot, visualizing the distribution of numerical codes in the 'code' column of the DataFrame 'df.' This plot provides insight into the frequency of different categories in the dataset."
   ]
  },
  {
   "cell_type": "code",
   "execution_count": 98,
   "metadata": {},
   "outputs": [
    {
     "data": {
      "text/plain": [
       "attitude.roll         0\n",
       "attitude.pitch        0\n",
       "attitude.yaw          0\n",
       "gravity.x             0\n",
       "gravity.y             0\n",
       "gravity.z             0\n",
       "rotationRate.x        0\n",
       "rotationRate.y        0\n",
       "rotationRate.z        0\n",
       "userAcceleration.x    0\n",
       "userAcceleration.y    0\n",
       "userAcceleration.z    0\n",
       "subject_id            0\n",
       "session_id            0\n",
       "category              0\n",
       "dtype: int64"
      ]
     },
     "execution_count": 98,
     "metadata": {},
     "output_type": "execute_result"
    }
   ],
   "source": [
    "pd.isna(df).sum()"
   ]
  },
  {
   "cell_type": "code",
   "execution_count": 102,
   "metadata": {},
   "outputs": [
    {
     "data": {
      "image/png": "[encoded data removed]",
      "text/plain": [
       "<Figure size 800x600 with 1 Axes>"
      ]
     },
     "metadata": {},
     "output_type": "display_data"
    }
   ],
   "source": [
    "category_counts = df['category'].value_counts()\n",
    "\n",
    "plt.figure(figsize=(8, 6))\n",
    "sns.countplot(df, x='category', color='skyblue')\n",
    "plt.title('Category Value Counts')\n",
    "plt.xlabel('Category')\n",
    "plt.ylabel('Counts')\n",
    "plt.xticks(rotation=0)\n",
    "plt.grid(axis='y', linestyle='--', alpha=0.7)\n",
    "\n",
    "# Display the plot\n",
    "plt.show()"
   ]
  },
  {
   "cell_type": "code",
   "execution_count": null,
   "metadata": {},
   "outputs": [],
   "source": []
  }
 ],
 "metadata": {
  "kernelspec": {
   "display_name": "ENV_FACULDADE",
   "language": "python",
   "name": "python3"
  },
  "language_info": {
   "codemirror_mode": {
    "name": "ipython",
    "version": 3
   },
   "file_extension": ".py",
   "mimetype": "text/x-python",
   "name": "python",
   "nbconvert_exporter": "python",
   "pygments_lexer": "ipython3",
   "version": "3.11.8"
  }
 },
 "nbformat": 4,
 "nbformat_minor": 2
}
