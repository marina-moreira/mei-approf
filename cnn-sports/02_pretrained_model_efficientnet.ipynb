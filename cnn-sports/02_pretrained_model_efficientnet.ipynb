{
 "cells": [
  {
   "cell_type": "markdown",
   "metadata": {},
   "source": "### Importing Libraries"
  },
  {
   "cell_type": "code",
   "metadata": {
    "execution": {
     "iopub.execute_input": "2024-01-24T10:30:51.749346Z",
     "iopub.status.busy": "2024-01-24T10:30:51.749059Z",
     "iopub.status.idle": "2024-01-24T10:31:04.44948Z",
     "shell.execute_reply": "2024-01-24T10:31:04.448459Z",
     "shell.execute_reply.started": "2024-01-24T10:30:51.749321Z"
    },
    "trusted": true,
    "ExecuteTime": {
     "end_time": "2024-06-07T14:38:14.153817Z",
     "start_time": "2024-06-07T14:38:08.681209Z"
    }
   },
   "source": [
    "import matplotlib.pyplot as plt\n",
    "import numpy as np\n",
    "from sklearn.metrics import classification_report\n",
    "from tensorflow.keras.callbacks import EarlyStopping, ReduceLROnPlateau\n",
    "from tensorflow.keras.layers import GlobalAveragePooling2D\n",
    "from tensorflow.keras.optimizers import Adam\n",
    "from tensorflow.keras.preprocessing.image import ImageDataGenerator"
   ],
   "outputs": [],
   "execution_count": 4
  },
  {
   "cell_type": "markdown",
   "metadata": {},
   "source": "### Loading the Data"
  },
  {
   "cell_type": "code",
   "execution_count": 2,
   "metadata": {
    "execution": {
     "iopub.execute_input": "2024-01-24T10:31:04.451846Z",
     "iopub.status.busy": "2024-01-24T10:31:04.451248Z",
     "iopub.status.idle": "2024-01-24T10:31:04.456588Z",
     "shell.execute_reply": "2024-01-24T10:31:04.455571Z",
     "shell.execute_reply.started": "2024-01-24T10:31:04.451817Z"
    },
    "trusted": true
   },
   "outputs": [],
   "source": [
    "#train_dir = 'C:\\\\Users\\\\rppin\\\\OneDrive\\\\Ambiente de Trabalho\\\\APROF\\\\mei-approf\\\\dataset\\\\raw\\\\train\\\\'\n",
    "#test_dir= 'C:\\\\Users\\\\rppin\\\\OneDrive\\\\Ambiente de Trabalho\\\\APROF\\\\mei-approf\\\\dataset\\\\raw\\\\test\\\\'\n",
    "#val_dir = 'C:\\\\Users\\\\rppin\\\\OneDrive\\\\Ambiente de Trabalho\\\\APROF\\\\mei-approf\\\\dataset\\\\raw\\\\valid\\\\'"
   ]
  },
  {
   "metadata": {
    "ExecuteTime": {
     "end_time": "2024-06-07T14:38:27.727387Z",
     "start_time": "2024-06-07T14:38:27.719874Z"
    }
   },
   "cell_type": "code",
   "source": [
    "train_dir = 'data/train'\n",
    "test_dir = 'data/test'\n",
    "val_dir = 'data/valid'\n",
    "\n",
    "#classes to be used\n",
    "classes = ['football', 'formula 1 racing', 'nascar racing', 'baseball', 'hockey', 'basketball',\n",
    "           'olympic wrestling', 'rugby', 'canoe slalom', 'roller derby', 'high jump',\n",
    "           'rollerblade racing', 'field hockey', 'figure skating women', 'golf', 'polo',\n",
    "           'rings', 'swimming', 'uneven bars', 'figure skating pairs']"
   ],
   "outputs": [],
   "execution_count": 5
  },
  {
   "cell_type": "markdown",
   "metadata": {},
   "source": "#### Create an ImageDataGenerator for Training / Validating and Testing data"
  },
  {
   "cell_type": "code",
   "metadata": {
    "execution": {
     "iopub.execute_input": "2024-01-24T10:31:05.766614Z",
     "iopub.status.busy": "2024-01-24T10:31:05.766256Z",
     "iopub.status.idle": "2024-01-24T10:31:06.891513Z",
     "shell.execute_reply": "2024-01-24T10:31:06.890763Z",
     "shell.execute_reply.started": "2024-01-24T10:31:05.766583Z"
    },
    "trusted": true,
    "ExecuteTime": {
     "end_time": "2024-06-07T14:38:43.271638Z",
     "start_time": "2024-06-07T14:38:42.695999Z"
    }
   },
   "source": [
    "# Data generators\n",
    "train_datagen = ImageDataGenerator(\n",
    "    zoom_range=0.4,\n",
    "    width_shift_range=0.3,\n",
    "    height_shift_range=0.3,\n",
    "    rotation_range=20,\n",
    "    shear_range=0.2,\n",
    "    horizontal_flip=True,\n",
    "    fill_mode='nearest',\n",
    "    classes=classes\n",
    ")\n",
    "\n",
    "val_datagen = ImageDataGenerator()\n",
    "\n",
    "# Data loaders\n",
    "train_dg = train_datagen.flow_from_directory(\n",
    "    train_dir,\n",
    "    class_mode=\"categorical\",\n",
    "    target_size=(150, 150),\n",
    "    batch_size=32,\n",
    "    shuffle=True,\n",
    "    seed=42)"
   ],
   "outputs": [
    {
     "name": "stdout",
     "output_type": "stream",
     "text": [
      "Found 13492 images belonging to 100 classes.\n"
     ]
    }
   ],
   "execution_count": 6
  },
  {
   "cell_type": "code",
   "metadata": {
    "execution": {
     "iopub.execute_input": "2024-01-24T10:31:06.892926Z",
     "iopub.status.busy": "2024-01-24T10:31:06.892635Z",
     "iopub.status.idle": "2024-01-24T10:31:07.031567Z",
     "shell.execute_reply": "2024-01-24T10:31:07.03073Z",
     "shell.execute_reply.started": "2024-01-24T10:31:06.892901Z"
    },
    "trusted": true,
    "ExecuteTime": {
     "end_time": "2024-06-07T14:41:17.984563Z",
     "start_time": "2024-06-07T14:41:17.931878Z"
    }
   },
   "source": [
    "validation_dg = val_datagen.flow_from_directory(\n",
    "    val_dir,\n",
    "    class_mode=\"categorical\",\n",
    "    target_size=(150, 150),\n",
    "    batch_size=32,\n",
    "    shuffle=False,\n",
    "    seed=42)"
   ],
   "outputs": [
    {
     "name": "stdout",
     "output_type": "stream",
     "text": [
      "Found 500 images belonging to 100 classes.\n"
     ]
    }
   ],
   "execution_count": 9
  },
  {
   "cell_type": "code",
   "metadata": {
    "execution": {
     "iopub.execute_input": "2024-01-24T10:31:07.033372Z",
     "iopub.status.busy": "2024-01-24T10:31:07.032847Z",
     "iopub.status.idle": "2024-01-24T10:31:07.175148Z",
     "shell.execute_reply": "2024-01-24T10:31:07.174303Z",
     "shell.execute_reply.started": "2024-01-24T10:31:07.033338Z"
    },
    "trusted": true,
    "ExecuteTime": {
     "end_time": "2024-06-07T14:38:54.863323Z",
     "start_time": "2024-06-07T14:38:54.820694Z"
    }
   },
   "source": [
    "testing_dg = val_datagen.flow_from_directory(\n",
    "    test_dir,\n",
    "    class_mode=\"categorical\",\n",
    "    target_size=(150, 150),\n",
    "    batch_size=32,\n",
    "    shuffle=False,\n",
    "    seed=42)"
   ],
   "outputs": [
    {
     "name": "stdout",
     "output_type": "stream",
     "text": [
      "Found 500 images belonging to 100 classes.\n"
     ]
    }
   ],
   "execution_count": 8
  },
  {
   "cell_type": "markdown",
   "metadata": {},
   "source": "#### Use EfficientNetB0 Model"
  },
  {
   "cell_type": "code",
   "execution_count": 6,
   "metadata": {
    "execution": {
     "iopub.execute_input": "2024-01-24T10:31:07.178179Z",
     "iopub.status.busy": "2024-01-24T10:31:07.176319Z",
     "iopub.status.idle": "2024-01-24T10:31:10.628098Z",
     "shell.execute_reply": "2024-01-24T10:31:10.62716Z",
     "shell.execute_reply.started": "2024-01-24T10:31:07.178144Z"
    },
    "trusted": true
   },
   "outputs": [],
   "source": [
    "from tensorflow.keras.applications import EfficientNetB0\n",
    "from tensorflow.keras.layers import Dense, Dropout\n",
    "from tensorflow.keras.models import Model\n",
    "\n",
    "# Load the EfficientNetB0 model pre-trained on ImageNet\n",
    "base_model = EfficientNetB0(weights=\"imagenet\", include_top=False, input_shape=(150, 150, 3))\n",
    "\n",
    "# Fine-tune some layers of the base model\n",
    "for layer in base_model.layers[-20:]:\n",
    "    layer.trainable = True\n",
    "\n",
    "# Add custom layers for classification\n",
    "x = base_model.output\n",
    "x = GlobalAveragePooling2D()(x)\n",
    "x = Dropout(0.5)(x)\n",
    "predictions = Dense(20, activation=\"softmax\")(x)  # Adjust output size for your dataset\n",
    "\n",
    "# Create the final model\n",
    "model = Model(inputs=base_model.input, outputs=predictions)"
   ]
  },
  {
   "cell_type": "code",
   "execution_count": 7,
   "metadata": {
    "execution": {
     "iopub.execute_input": "2024-01-24T10:31:10.629633Z",
     "iopub.status.busy": "2024-01-24T10:31:10.629354Z",
     "iopub.status.idle": "2024-01-24T10:31:10.649797Z",
     "shell.execute_reply": "2024-01-24T10:31:10.648955Z",
     "shell.execute_reply.started": "2024-01-24T10:31:10.629609Z"
    },
    "trusted": true
   },
   "outputs": [],
   "source": [
    "# Compile the model\n",
    "opt = Adam(learning_rate=0.0001)  # Adjust learning rate\n",
    "model.compile(optimizer=opt, loss='categorical_crossentropy', metrics=['accuracy'])"
   ]
  },
  {
   "cell_type": "code",
   "execution_count": 8,
   "metadata": {
    "execution": {
     "iopub.execute_input": "2024-01-24T10:31:10.652861Z",
     "iopub.status.busy": "2024-01-24T10:31:10.652603Z",
     "iopub.status.idle": "2024-01-24T11:29:43.387348Z",
     "shell.execute_reply": "2024-01-24T11:29:43.386399Z",
     "shell.execute_reply.started": "2024-01-24T10:31:10.652838Z"
    },
    "trusted": true
   },
   "outputs": [
    {
     "name": "stdout",
     "output_type": "stream",
     "text": [
      "Epoch 1/20\n"
     ]
    },
    {
     "name": "stderr",
     "output_type": "stream",
     "text": [
      "c:\\Users\\rppin\\anaconda3\\Lib\\site-packages\\keras\\src\\trainers\\data_adapters\\py_dataset_adapter.py:121: UserWarning: Your `PyDataset` class should call `super().__init__(**kwargs)` in its constructor. `**kwargs` can include `workers`, `use_multiprocessing`, `max_queue_size`. Do not pass these arguments to `fit()`, as they will be ignored.\n",
      "  self._warn_if_super_not_called()\n"
     ]
    },
    {
     "name": "stdout",
     "output_type": "stream",
     "text": [
      "\u001B[1m104/104\u001B[0m \u001B[32m━━━━━━━━━━━━━━━━━━━━\u001B[0m\u001B[37m\u001B[0m \u001B[1m169s\u001B[0m 1s/step - accuracy: 0.1236 - loss: 2.9282 - val_accuracy: 0.5500 - val_loss: 1.9755 - learning_rate: 1.0000e-04\n",
      "Epoch 2/20\n",
      "\u001B[1m104/104\u001B[0m \u001B[32m━━━━━━━━━━━━━━━━━━━━\u001B[0m\u001B[37m\u001B[0m \u001B[1m143s\u001B[0m 1s/step - accuracy: 0.4840 - loss: 1.8947 - val_accuracy: 0.7800 - val_loss: 0.9272 - learning_rate: 1.0000e-04\n",
      "Epoch 3/20\n",
      "\u001B[1m104/104\u001B[0m \u001B[32m━━━━━━━━━━━━━━━━━━━━\u001B[0m\u001B[37m\u001B[0m \u001B[1m130s\u001B[0m 1s/step - accuracy: 0.7075 - loss: 1.0964 - val_accuracy: 0.8700 - val_loss: 0.4440 - learning_rate: 1.0000e-04\n",
      "Epoch 4/20\n",
      "\u001B[1m104/104\u001B[0m \u001B[32m━━━━━━━━━━━━━━━━━━━━\u001B[0m\u001B[37m\u001B[0m \u001B[1m127s\u001B[0m 1s/step - accuracy: 0.7876 - loss: 0.7351 - val_accuracy: 0.9400 - val_loss: 0.2372 - learning_rate: 1.0000e-04\n",
      "Epoch 5/20\n",
      "\u001B[1m104/104\u001B[0m \u001B[32m━━━━━━━━━━━━━━━━━━━━\u001B[0m\u001B[37m\u001B[0m \u001B[1m126s\u001B[0m 1s/step - accuracy: 0.8514 - loss: 0.5356 - val_accuracy: 0.9700 - val_loss: 0.1389 - learning_rate: 1.0000e-04\n",
      "Epoch 6/20\n",
      "\u001B[1m104/104\u001B[0m \u001B[32m━━━━━━━━━━━━━━━━━━━━\u001B[0m\u001B[37m\u001B[0m \u001B[1m128s\u001B[0m 1s/step - accuracy: 0.8710 - loss: 0.4294 - val_accuracy: 0.9600 - val_loss: 0.1129 - learning_rate: 1.0000e-04\n",
      "Epoch 7/20\n",
      "\u001B[1m104/104\u001B[0m \u001B[32m━━━━━━━━━━━━━━━━━━━━\u001B[0m\u001B[37m\u001B[0m \u001B[1m133s\u001B[0m 1s/step - accuracy: 0.9020 - loss: 0.3445 - val_accuracy: 0.9700 - val_loss: 0.1269 - learning_rate: 1.0000e-04\n",
      "Epoch 8/20\n",
      "\u001B[1m104/104\u001B[0m \u001B[32m━━━━━━━━━━━━━━━━━━━━\u001B[0m\u001B[37m\u001B[0m \u001B[1m132s\u001B[0m 1s/step - accuracy: 0.9089 - loss: 0.3005 - val_accuracy: 0.9700 - val_loss: 0.0961 - learning_rate: 1.0000e-04\n",
      "Epoch 9/20\n",
      "\u001B[1m104/104\u001B[0m \u001B[32m━━━━━━━━━━━━━━━━━━━━\u001B[0m\u001B[37m\u001B[0m \u001B[1m149s\u001B[0m 1s/step - accuracy: 0.9141 - loss: 0.2700 - val_accuracy: 0.9700 - val_loss: 0.0895 - learning_rate: 1.0000e-04\n",
      "Epoch 10/20\n",
      "\u001B[1m104/104\u001B[0m \u001B[32m━━━━━━━━━━━━━━━━━━━━\u001B[0m\u001B[37m\u001B[0m \u001B[1m146s\u001B[0m 1s/step - accuracy: 0.9264 - loss: 0.2406 - val_accuracy: 0.9700 - val_loss: 0.0801 - learning_rate: 1.0000e-04\n",
      "Epoch 11/20\n",
      "\u001B[1m104/104\u001B[0m \u001B[32m━━━━━━━━━━━━━━━━━━━━\u001B[0m\u001B[37m\u001B[0m \u001B[1m133s\u001B[0m 1s/step - accuracy: 0.9422 - loss: 0.2024 - val_accuracy: 0.9700 - val_loss: 0.0955 - learning_rate: 1.0000e-04\n",
      "Epoch 12/20\n",
      "\u001B[1m104/104\u001B[0m \u001B[32m━━━━━━━━━━━━━━━━━━━━\u001B[0m\u001B[37m\u001B[0m \u001B[1m131s\u001B[0m 1s/step - accuracy: 0.9462 - loss: 0.1865 - val_accuracy: 0.9600 - val_loss: 0.1121 - learning_rate: 1.0000e-04\n",
      "Epoch 13/20\n",
      "\u001B[1m104/104\u001B[0m \u001B[32m━━━━━━━━━━━━━━━━━━━━\u001B[0m\u001B[37m\u001B[0m \u001B[1m128s\u001B[0m 1s/step - accuracy: 0.9610 - loss: 0.1558 - val_accuracy: 0.9600 - val_loss: 0.0953 - learning_rate: 1.0000e-04\n",
      "Epoch 14/20\n",
      "\u001B[1m104/104\u001B[0m \u001B[32m━━━━━━━━━━━━━━━━━━━━\u001B[0m\u001B[37m\u001B[0m \u001B[1m128s\u001B[0m 1s/step - accuracy: 0.9613 - loss: 0.1383 - val_accuracy: 0.9600 - val_loss: 0.0786 - learning_rate: 2.0000e-05\n",
      "Epoch 15/20\n",
      "\u001B[1m104/104\u001B[0m \u001B[32m━━━━━━━━━━━━━━━━━━━━\u001B[0m\u001B[37m\u001B[0m \u001B[1m131s\u001B[0m 1s/step - accuracy: 0.9642 - loss: 0.1306 - val_accuracy: 0.9600 - val_loss: 0.0765 - learning_rate: 2.0000e-05\n",
      "Epoch 16/20\n",
      "\u001B[1m104/104\u001B[0m \u001B[32m━━━━━━━━━━━━━━━━━━━━\u001B[0m\u001B[37m\u001B[0m \u001B[1m134s\u001B[0m 1s/step - accuracy: 0.9498 - loss: 0.1661 - val_accuracy: 0.9700 - val_loss: 0.0811 - learning_rate: 2.0000e-05\n",
      "Epoch 17/20\n",
      "\u001B[1m104/104\u001B[0m \u001B[32m━━━━━━━━━━━━━━━━━━━━\u001B[0m\u001B[37m\u001B[0m \u001B[1m132s\u001B[0m 1s/step - accuracy: 0.9596 - loss: 0.1364 - val_accuracy: 0.9700 - val_loss: 0.0749 - learning_rate: 2.0000e-05\n",
      "Epoch 18/20\n",
      "\u001B[1m104/104\u001B[0m \u001B[32m━━━━━━━━━━━━━━━━━━━━\u001B[0m\u001B[37m\u001B[0m \u001B[1m134s\u001B[0m 1s/step - accuracy: 0.9605 - loss: 0.1336 - val_accuracy: 0.9700 - val_loss: 0.0717 - learning_rate: 2.0000e-05\n",
      "Epoch 19/20\n",
      "\u001B[1m104/104\u001B[0m \u001B[32m━━━━━━━━━━━━━━━━━━━━\u001B[0m\u001B[37m\u001B[0m \u001B[1m134s\u001B[0m 1s/step - accuracy: 0.9648 - loss: 0.1221 - val_accuracy: 0.9700 - val_loss: 0.0683 - learning_rate: 2.0000e-05\n",
      "Epoch 20/20\n",
      "\u001B[1m104/104\u001B[0m \u001B[32m━━━━━━━━━━━━━━━━━━━━\u001B[0m\u001B[37m\u001B[0m \u001B[1m136s\u001B[0m 1s/step - accuracy: 0.9592 - loss: 0.1278 - val_accuracy: 0.9800 - val_loss: 0.0618 - learning_rate: 2.0000e-05\n"
     ]
    }
   ],
   "source": [
    "# Train the model\n",
    "history = model.fit(\n",
    "    train_dg,\n",
    "    epochs=20,\n",
    "    validation_data=validation_dg,\n",
    "    callbacks=[\n",
    "        EarlyStopping(monitor='val_loss', patience=5, restore_best_weights=True),\n",
    "        ReduceLROnPlateau(monitor='val_loss', factor=0.2, patience=3, mode='min')\n",
    "    ])"
   ]
  },
  {
   "cell_type": "markdown",
   "metadata": {},
   "source": [
    "# Plotting Our Metrics "
   ]
  },
  {
   "cell_type": "code",
   "execution_count": 9,
   "metadata": {
    "execution": {
     "iopub.execute_input": "2024-01-24T11:29:43.388977Z",
     "iopub.status.busy": "2024-01-24T11:29:43.38866Z",
     "iopub.status.idle": "2024-01-24T11:29:43.957734Z",
     "shell.execute_reply": "2024-01-24T11:29:43.956871Z",
     "shell.execute_reply.started": "2024-01-24T11:29:43.388949Z"
    },
    "trusted": true
   },
   "outputs": [
    {
     "data": {
      "image/png": "[encoded data removed]",
      "text/plain": [
       "<Figure size 1200x400 with 2 Axes>"
      ]
     },
     "metadata": {},
     "output_type": "display_data"
    }
   ],
   "source": [
    "# Plotting metrics\n",
    "train_acc = history.history['accuracy']\n",
    "val_acc = history.history['val_accuracy']\n",
    "train_loss = history.history['loss']\n",
    "val_loss = history.history['val_loss']\n",
    "epochs = range(1, len(train_acc) + 1)\n",
    "\n",
    "plt.figure(figsize=(12, 4))\n",
    "plt.subplot(1, 2, 1)\n",
    "plt.plot(epochs, train_acc, 'b', label='Training accuracy')\n",
    "plt.plot(epochs, val_acc, 'r', label='Validation accuracy')\n",
    "plt.title('Training and Validation Accuracy')\n",
    "plt.xlabel('Epochs')\n",
    "plt.ylabel('Accuracy')\n",
    "plt.legend()\n",
    "\n",
    "plt.subplot(1, 2, 2)\n",
    "plt.plot(epochs, train_loss, 'b', label='Training loss')\n",
    "plt.plot(epochs, val_loss, 'r', label='Validation loss')\n",
    "plt.title('Training and Validation Loss')\n",
    "plt.xlabel('Epochs')\n",
    "plt.ylabel('Loss')\n",
    "plt.legend()\n",
    "\n",
    "plt.tight_layout()\n",
    "plt.show()\n"
   ]
  },
  {
   "cell_type": "markdown",
   "metadata": {},
   "source": [
    "# Evaluating the model's performance on the test dataset."
   ]
  },
  {
   "cell_type": "code",
   "execution_count": 10,
   "metadata": {
    "execution": {
     "iopub.execute_input": "2024-01-24T11:29:43.959531Z",
     "iopub.status.busy": "2024-01-24T11:29:43.95925Z",
     "iopub.status.idle": "2024-01-24T11:29:49.191263Z",
     "shell.execute_reply": "2024-01-24T11:29:49.19049Z",
     "shell.execute_reply.started": "2024-01-24T11:29:43.959505Z"
    },
    "trusted": true
   },
   "outputs": [
    {
     "name": "stdout",
     "output_type": "stream",
     "text": [
      "\u001B[1m4/4\u001B[0m \u001B[32m━━━━━━━━━━━━━━━━━━━━\u001B[0m\u001B[37m\u001B[0m \u001B[1m1s\u001B[0m 162ms/step - accuracy: 1.0000 - loss: 0.0187\n"
     ]
    }
   ],
   "source": [
    "# Evaluate the model on the test dataset\n",
    "predictions = model.evaluate(testing_dg)\n"
   ]
  },
  {
   "cell_type": "code",
   "execution_count": 11,
   "metadata": {
    "execution": {
     "iopub.execute_input": "2024-01-24T11:29:49.192754Z",
     "iopub.status.busy": "2024-01-24T11:29:49.192455Z",
     "iopub.status.idle": "2024-01-24T11:29:53.555793Z",
     "shell.execute_reply": "2024-01-24T11:29:53.554898Z",
     "shell.execute_reply.started": "2024-01-24T11:29:49.192726Z"
    },
    "trusted": true
   },
   "outputs": [
    {
     "name": "stdout",
     "output_type": "stream",
     "text": [
      "\u001B[1m4/4\u001B[0m \u001B[32m━━━━━━━━━━━━━━━━━━━━\u001B[0m\u001B[37m\u001B[0m \u001B[1m5s\u001B[0m 793ms/step\n",
      "Classification Report:\n",
      "                       precision    recall  f1-score   support\n",
      "\n",
      "            baseball       1.00      1.00      1.00         5\n",
      "          basketball       1.00      1.00      1.00         5\n",
      "        canoe slamon       1.00      1.00      1.00         5\n",
      "        field hockey       1.00      1.00      1.00         5\n",
      "figure skating pairs       1.00      1.00      1.00         5\n",
      "figure skating women       1.00      1.00      1.00         5\n",
      "            football       1.00      1.00      1.00         5\n",
      "    formula 1 racing       1.00      1.00      1.00         5\n",
      "                golf       1.00      1.00      1.00         5\n",
      "           high jump       1.00      1.00      1.00         5\n",
      "              hockey       1.00      1.00      1.00         5\n",
      "       nascar racing       1.00      1.00      1.00         5\n",
      "   olympic wrestling       1.00      1.00      1.00         5\n",
      "                polo       1.00      1.00      1.00         5\n",
      "               rings       1.00      1.00      1.00         5\n",
      "        roller derby       1.00      1.00      1.00         5\n",
      "  rollerblade racing       1.00      1.00      1.00         5\n",
      "               rugby       1.00      1.00      1.00         5\n",
      "            swimming       1.00      1.00      1.00         5\n",
      "         uneven bars       1.00      1.00      1.00         5\n",
      "\n",
      "            accuracy                           1.00       100\n",
      "           macro avg       1.00      1.00      1.00       100\n",
      "        weighted avg       1.00      1.00      1.00       100\n",
      "\n"
     ]
    }
   ],
   "source": [
    "# Get true labels\n",
    "true_labels = testing_dg.classes\n",
    "\n",
    "# Use the model to predict the classes\n",
    "predicted_labels = np.argmax(model.predict(testing_dg), axis=1)\n",
    "\n",
    "# Display classification report\n",
    "print(\"Classification Report:\\n\",\n",
    "      classification_report(true_labels, predicted_labels, target_names=testing_dg.class_indices.keys()))"
   ]
  }
 ],
 "metadata": {
  "kaggle": {
   "accelerator": "gpu",
   "dataSources": [
    {
     "datasetId": 1209061,
     "sourceId": 5595172,
     "sourceType": "datasetVersion"
    }
   ],
   "dockerImageVersionId": 30635,
   "isGpuEnabled": true,
   "isInternetEnabled": false,
   "language": "python",
   "sourceType": "notebook"
  },
  "kernelspec": {
   "display_name": "Python 3",
   "language": "python",
   "name": "python3"
  },
  "language_info": {
   "codemirror_mode": {
    "name": "ipython",
    "version": 3
   },
   "file_extension": ".py",
   "mimetype": "text/x-python",
   "name": "python",
   "nbconvert_exporter": "python",
   "pygments_lexer": "ipython3",
   "version": "3.11.4"
  }
 },
 "nbformat": 4,
 "nbformat_minor": 4
}
